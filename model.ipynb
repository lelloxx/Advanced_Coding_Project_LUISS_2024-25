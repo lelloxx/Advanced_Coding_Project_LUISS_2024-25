{
 "cells": [
  {
   "cell_type": "code",
   "execution_count": 2,
   "id": "99e9c297",
   "metadata": {},
   "outputs": [],
   "source": [
    "# Importing Libraries\n",
    "\n",
    "import pandas as pd\n",
    "import numpy as np\n",
    "import matplotlib.pyplot as plt\n",
    "import seaborn as sns\n"
   ]
  },
  {
   "cell_type": "code",
   "execution_count": 8,
   "id": "5b72fd7f",
   "metadata": {},
   "outputs": [],
   "source": [
    "# Importing the dataset\n",
    "clean_credit_card_data = pd.read_csv('cleaned_credit_card_data_final.csv')"
   ]
  },
  {
   "cell_type": "markdown",
   "id": "9efca1af",
   "metadata": {},
   "source": [
    "## 1) Decision Tree Classifier\n",
    "\n",
    "Decision trees are a type of supervised learning algorithm that can be used for both classification and regression tasks. They work by splitting the data into subsets based on the value of input features, creating a tree-like structure where each node represents a feature and each branch represents a decision based on that feature.\n",
    "\n"
   ]
  },
  {
   "cell_type": "code",
   "execution_count": 11,
   "id": "07eba9a4",
   "metadata": {},
   "outputs": [],
   "source": [
    "# Importing necessary libraries for model building\n",
    "from sklearn.tree import DecisionTreeClassifier\n",
    "from sklearn.model_selection import train_test_split\n",
    "from sklearn.metrics import classification_report, confusion_matrix\n",
    "from sklearn.preprocessing import LabelEncoder\n",
    "\n",
    "# Selecting the target variable and features\n",
    "X = clean_credit_card_data.drop(columns=['Credit_Score'])\n",
    "y = clean_credit_card_data['Credit_Score']\n",
    "\n",
    "# Encoding categorical variables if any\n",
    "X = pd.get_dummies(X)\n",
    "\n",
    "# Split into training and test sets\n",
    "X_train, X_test, y_train, y_test = train_test_split(X, y, test_size=0.2, random_state=42)"
   ]
  },
  {
   "cell_type": "code",
   "execution_count": null,
   "id": "e68ef1c6",
   "metadata": {},
   "outputs": [
    {
     "name": "stdout",
     "output_type": "stream",
     "text": [
      "Confusion Matrix:\n",
      "[[  73    2    5    3]\n",
      " [   0 4486 1372    9]\n",
      " [   7 1316 8294  931]\n",
      " [   5   18  941 2538]]\n",
      "\n",
      "Classification Report:\n",
      "              precision    recall  f1-score   support\n",
      "\n",
      "           0       0.86      0.88      0.87        83\n",
      "           1       0.77      0.76      0.77      5867\n",
      "           2       0.78      0.79      0.78     10548\n",
      "           3       0.73      0.72      0.73      3502\n",
      "\n",
      "    accuracy                           0.77     20000\n",
      "   macro avg       0.79      0.79      0.79     20000\n",
      "weighted avg       0.77      0.77      0.77     20000\n",
      "\n"
     ]
    }
   ],
   "source": [
    "decision_tree_model = DecisionTreeClassifier(random_state=42)\n",
    "decision_tree_model.fit(X_train, y_train)\n",
    "\n",
    "# 5. Predict and evaluate\n",
    "y_pred = decision_tree_model.predict(X_test)\n",
    "\n",
    "print(\"Confusion Matrix:\")\n",
    "print(confusion_matrix(y_test, y_pred))\n",
    "print(\"\\nClassification Report:\")\n",
    "print(classification_report(y_test, y_pred))\n",
    "print(\"\\nAccuracy:\")\n",
    "print(decision_tree_model.score(X_test, y_test))"
   ]
  }
 ],
 "metadata": {
  "kernelspec": {
   "display_name": "Python 3",
   "language": "python",
   "name": "python3"
  },
  "language_info": {
   "codemirror_mode": {
    "name": "ipython",
    "version": 3
   },
   "file_extension": ".py",
   "mimetype": "text/x-python",
   "name": "python",
   "nbconvert_exporter": "python",
   "pygments_lexer": "ipython3",
   "version": "3.13.2"
  }
 },
 "nbformat": 4,
 "nbformat_minor": 5
}
