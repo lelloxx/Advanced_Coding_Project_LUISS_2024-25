{
 "cells": [
  {
   "cell_type": "markdown",
   "metadata": {},
   "source": [
    "## 0) Import Libraries and the Dataset\n",
    "\n",
    "Setup your python environment and download the credit-score data"
   ]
  },
  {
   "cell_type": "code",
   "execution_count": 49,
   "metadata": {},
   "outputs": [],
   "source": [
    "import pandas as pd\n",
    "import numpy as np\n",
    "import matplotlib.pyplot as plt\n",
    "import seaborn as sns\n",
    "import re"
   ]
  },
  {
   "cell_type": "code",
   "execution_count": 50,
   "metadata": {},
   "outputs": [],
   "source": [
    "credit_card_df = pd.read_csv('Dataset/train_biased.csv')"
   ]
  },
  {
   "cell_type": "markdown",
   "metadata": {},
   "source": [
    "## 1) Understanding the dataset\n"
   ]
  },
  {
   "cell_type": "markdown",
   "metadata": {},
   "source": [
    "\n",
    "### 1.1) General overview of the dataset\n",
    "\n",
    "Using the function `.head()`, we can extract from the dataset the first x rows (x=5 by default, but we can change this number). They are not useful for analytic purposes, but still enable us to visualize the dataset to get a general overview of the data. \n"
   ]
  },
  {
   "cell_type": "code",
   "execution_count": 51,
   "metadata": {},
   "outputs": [
    {
     "name": "stdout",
     "output_type": "stream",
     "text": [
      "Head of the DataFrame:\n",
      "       ID Customer_ID     Month           Name    City         Street    Age  \\\n",
      "0     NaN   CUS_0xd40       NaN  Aaron Maashoh  Lonton  Oxford Street    NaN   \n",
      "1  0x1603   CUS_0xd40  February  Aaron Maashoh  Lonton  Oxford Street   23.0   \n",
      "2  0x1604   CUS_0xd40       NaN            NaN  Lonton  Oxford Street -500.0   \n",
      "3  0x1605   CUS_0xd40     April  Aaron Maashoh  Lonton  Oxford Street   23.0   \n",
      "4     NaN   CUS_0xd40       May  Aaron Maashoh  Lonton  Oxford Street   23.0   \n",
      "\n",
      "           SSN Occupation Annual_Income  ...  Num_of_Delayed_Payment  \\\n",
      "0  821-00-0265    Manager      19114.12  ...                       7   \n",
      "1  821-00-0265    Manager      19114.12  ...                     NaN   \n",
      "2  821-00-0265    Manager      19114.12  ...                       7   \n",
      "3  821-00-0265    Manager      19114.12  ...                       4   \n",
      "4  821-00-0265    Manager      19114.12  ...                     NaN   \n",
      "\n",
      "   Changed_Credit_Limit  Num_Credit_Inquiries  Credit_Mix Outstanding_Debt  \\\n",
      "0                 11.27                   4.0           _              NaN   \n",
      "1                 11.27                   4.0         NaN           809.98   \n",
      "2                   NaN                   4.0        Good           809.98   \n",
      "3                  6.27                   4.0        Good           809.98   \n",
      "4                 11.27                   4.0        Good           809.98   \n",
      "\n",
      "  Credit_Utilization_Ratio     Credit_History_Age Payment_of_Min_Amount  \\\n",
      "0                26.822620  22 Years and 1 Months                    No   \n",
      "1                31.944960                    NaN                    No   \n",
      "2                28.609352                    NaN                    No   \n",
      "3                      NaN  22 Years and 4 Months                    No   \n",
      "4                24.797347  22 Years and 5 Months                    No   \n",
      "\n",
      "  Amount_invested_monthly  Credit_Score  \n",
      "0       80.41529543900253             3  \n",
      "1      118.28022162236736             3  \n",
      "2         81.699521264648             3  \n",
      "3       199.4580743910713             3  \n",
      "4      41.420153086217326             3  \n",
      "\n",
      "[5 rows x 27 columns]\n",
      "\n",
      "\n",
      "The dataset contains 27 columns\n",
      "The dataset contains 100000 rows\n"
     ]
    }
   ],
   "source": [
    "# Head of the DataFrame\n",
    "print(\"Head of the DataFrame:\")\n",
    "print(credit_card_df.head())\n",
    "print(\"\\n\")\n",
    "\n",
    "# Identify Number of Columns and Rows\n",
    "n_rows = len(credit_card_df)\n",
    "n_columns = len(credit_card_df.columns)\n",
    "print(f\"The dataset contains {n_columns} columns\")\n",
    "print(f\"The dataset contains {n_rows} rows\")\n"
   ]
  },
  {
   "cell_type": "markdown",
   "metadata": {},
   "source": [
    "We continued our first and superficial analysis of the dataset by retrieving the names of the columns and their data types. This is done using the function `.dtypes`, in order to understand the nature of the data we are dealing with and to check if there are any inconsistencies in the dataset (e.g. a column that should be numeric but is stored as a string). \n",
    "In addition, we can also check the number of missing values in each column using the function `.isnull().sum()`. This is useful to understand if we need to impute the dataset before proceeding with the analysis. \n",
    "Finally, we can also check the number of unique values in each column using the function `.nunique()`, which is relevant to discover the categorical variables in the dataset."
   ]
  },
  {
   "cell_type": "code",
   "execution_count": 52,
   "metadata": {},
   "outputs": [
    {
     "name": "stdout",
     "output_type": "stream",
     "text": [
      "                         Data Type  Unique Values  Missing Values\n",
      "ID                          object          90058            9942\n",
      "Customer_ID                 object          12500            9893\n",
      "Month                       object              8            9938\n",
      "Name                        object          10139           18887\n",
      "City                        object              4            9851\n",
      "Street                      object             31            9920\n",
      "Age                        float64           1501           14488\n",
      "SSN                         object          12501           10001\n",
      "Occupation                  object             21            9944\n",
      "Annual_Income               object          18438           10094\n",
      "Monthly_Inhand_Salary      float64          13204           23595\n",
      "Num_Bank_Accounts          float64            879            9833\n",
      "Num_Credit_Card            float64           1132           10062\n",
      "Interest_Rate              float64           1597            9849\n",
      "Num_of_Loan                 object            399           10191\n",
      "Type_of_Loan                object           6260           20312\n",
      "Delay_from_due_date        float64             73            9988\n",
      "Num_of_Delayed_Payment      object            684           16218\n",
      "Changed_Credit_Limit        object           4314           10067\n",
      "Num_Credit_Inquiries       float64           1124           11898\n",
      "Credit_Mix                  object              4            9915\n",
      "Outstanding_Debt            object          13088            9963\n",
      "Credit_Utilization_Ratio   float64          90025            9975\n",
      "Credit_History_Age          object            404           18209\n",
      "Payment_of_Min_Amount       object              3            9957\n",
      "Amount_invested_monthly     object          81866           14120\n",
      "Credit_Score                 int64              4               0\n"
     ]
    }
   ],
   "source": [
    "# Create a DataFrame with column data types and number of unique values\n",
    "column_summary = pd.DataFrame({\n",
    "    \"Data Type\": credit_card_df.dtypes,\n",
    "    \"Unique Values\": credit_card_df.nunique(),\n",
    "    \"Missing Values\": credit_card_df.isnull().sum(),\n",
    "})\n",
    "\n",
    "# Display the combined summary\n",
    "print(column_summary)"
   ]
  },
  {
   "cell_type": "code",
   "execution_count": 53,
   "metadata": {},
   "outputs": [
    {
     "name": "stdout",
     "output_type": "stream",
     "text": [
      "Number of rows with missing values: 96690\n"
     ]
    }
   ],
   "source": [
    "# Visualize rows with missing values\n",
    "missing_values_rows = credit_card_df[credit_card_df.isnull().any(axis=1)]\n",
    "print(f\"Number of rows with missing values: {len(missing_values_rows)}\")"
   ]
  },
  {
   "cell_type": "markdown",
   "metadata": {},
   "source": [
    "Many columns, such as **Annual Income**, are classified as categorical. Upon inspecting the dataset, we observed that several of these columns contain special characters like `\"_ \\@ $\"`, which cause the values to be treated as objects instead of numbers. To address this, we replace these special characters with an empty string `''`. This process may introduce new missing values, but it is necessary for accurate analysis. A cell containing only special characters provides no meaningful information and can be reasonably treated as a missing value."
   ]
  },
  {
   "cell_type": "code",
   "execution_count": 54,
   "metadata": {},
   "outputs": [
    {
     "name": "stdout",
     "output_type": "stream",
     "text": [
      "Annual_Income              float64\n",
      "Num_of_Loan                float64\n",
      "Num_of_Delayed_Payment     float64\n",
      "Changed_Credit_Limit       float64\n",
      "Outstanding_Debt           float64\n",
      "Amount_invested_monthly    float64\n",
      "dtype: object\n"
     ]
    }
   ],
   "source": [
    "def simple_clean_numeric(df, cols):\n",
    "    \n",
    "    \"\"\"\n",
    "    Convert specified columns to numeric by removing any non-digit characters \n",
    "    (except for period and minus sign) and then converting to numeric.\n",
    "    \n",
    "    Parameters:\n",
    "      df: pandas DataFrame\n",
    "      cols: List of column names to clean and convert\n",
    "      \n",
    "    Returns:\n",
    "      A new DataFrame with the specified columns cleaned and converted to numeric.\n",
    "    \"\"\"\n",
    "    \n",
    "    df_clean = df.copy()\n",
    "    for col in cols:\n",
    "        if col in df_clean.columns:\n",
    "            # Convert to string and remove all characters except digits, period, and minus sign.\n",
    "            cleaned = df_clean[col].astype(str).str.replace(r'[^0-9\\.-]', '', regex=True)\n",
    "            # Convert the cleaned string to numeric (float); unconvertible values become NaN.\n",
    "            df_clean[col] = pd.to_numeric(cleaned, errors='coerce')\n",
    "    return df_clean\n",
    "\n",
    "# List of columns that should be numeric\n",
    "should_be_numeric = [\n",
    "    'Annual_Income', \n",
    "    'Num_of_Loan', \n",
    "    'Num_of_Delayed_Payment', \n",
    "    'Changed_Credit_Limit', \n",
    "    'Outstanding_Debt', \n",
    "    'Amount_invested_monthly'\n",
    "]\n",
    "\n",
    "# Clean and convert the data\n",
    "credit_card_df = simple_clean_numeric(credit_card_df, should_be_numeric)\n",
    "\n",
    "# Verify that the columns are now numeric\n",
    "print(credit_card_df[should_be_numeric].dtypes)\n"
   ]
  },
  {
   "cell_type": "markdown",
   "metadata": {},
   "source": [
    "After converting the columns to numeric, we can correctly check the data types of the columns again using the function `.dtypes`. This allows us to verify that the columns are now in the appropriate format for analysis, as well as to split the dataset into categorical and numerical variables. "
   ]
  },
  {
   "cell_type": "code",
   "execution_count": 55,
   "metadata": {},
   "outputs": [
    {
     "name": "stdout",
     "output_type": "stream",
     "text": [
      "There are 15 numerical features:\n",
      "['Age', 'Annual_Income', 'Monthly_Inhand_Salary', 'Num_Bank_Accounts', 'Num_Credit_Card', 'Interest_Rate', 'Num_of_Loan', 'Delay_from_due_date', 'Num_of_Delayed_Payment', 'Changed_Credit_Limit', 'Num_Credit_Inquiries', 'Outstanding_Debt', 'Credit_Utilization_Ratio', 'Amount_invested_monthly', 'Credit_Score']\n",
      "\n",
      "\n",
      "There are 12 categorical features:\n",
      "['ID', 'Customer_ID', 'Month', 'Name', 'City', 'Street', 'SSN', 'Occupation', 'Type_of_Loan', 'Credit_Mix', 'Credit_History_Age', 'Payment_of_Min_Amount']\n"
     ]
    }
   ],
   "source": [
    "##Selecting numerical features\n",
    "numerical_data = credit_card_df.select_dtypes(include='number')\n",
    "#append the features of numerical_data to list\n",
    "numerical_features = numerical_data.columns.tolist()\n",
    "\n",
    "#Selecting categoricalfeatures\n",
    "categorical_data = credit_card_df.select_dtypes(include= 'object')\n",
    "#append the features of categorical_data to list\n",
    "categorical_features = categorical_data.columns.tolist()\n",
    "\n",
    "print(f'There are {len(numerical_features)} numerical features:')\n",
    "print(numerical_features)\n",
    "print('\\n')\n",
    "print(f'There are {len(categorical_features)} categorical features:')\n",
    "print(categorical_features)"
   ]
  },
  {
   "cell_type": "markdown",
   "metadata": {},
   "source": [
    "Now that we have all the numerical features in the correct format, we can proceed with a further analysis of the dataset. We can check the summary statistics of the dataset using the function `.describe()`, which provides useful information such as the mean, standard deviation, minimum and maximum values, and quartiles for each numerical column. This is useful to understand the distribution of the data and to identify any potential outliers."
   ]
  },
  {
   "cell_type": "code",
   "execution_count": 56,
   "metadata": {},
   "outputs": [
    {
     "data": {
      "application/vnd.microsoft.datawrangler.viewer.v0+json": {
       "columns": [
        {
         "name": "index",
         "rawType": "object",
         "type": "string"
        },
        {
         "name": "count",
         "rawType": "float64",
         "type": "float"
        },
        {
         "name": "mean",
         "rawType": "float64",
         "type": "float"
        },
        {
         "name": "std",
         "rawType": "float64",
         "type": "float"
        },
        {
         "name": "min",
         "rawType": "float64",
         "type": "float"
        },
        {
         "name": "25%",
         "rawType": "float64",
         "type": "float"
        },
        {
         "name": "50%",
         "rawType": "float64",
         "type": "float"
        },
        {
         "name": "75%",
         "rawType": "float64",
         "type": "float"
        },
        {
         "name": "max",
         "rawType": "float64",
         "type": "float"
        }
       ],
       "conversionMethod": "pd.DataFrame",
       "ref": "01464f39-76d7-4431-9aab-8dec07af380b",
       "rows": [
        [
         "Age",
         "85512.0",
         "110.2268453550379",
         "684.9075881251607",
         "-500.0",
         "24.0",
         "33.0",
         "42.0",
         "8698.0"
        ],
        [
         "Annual_Income",
         "89906.0",
         "176544.7955903944",
         "1429012.6532640015",
         "7005.93",
         "19453.05",
         "37579.75",
         "72760.04",
         "24198062.0"
        ],
        [
         "Monthly_Inhand_Salary",
         "76405.0",
         "4185.789272430268",
         "3178.5605057874163",
         "303.6454166666666",
         "1625.02375",
         "3086.683333333333",
         "5940.3175",
         "15204.633333333331"
        ],
        [
         "Num_Bank_Accounts",
         "90167.0",
         "17.10517151507758",
         "117.72821482138556",
         "-1.0",
         "3.0",
         "6.0",
         "7.0",
         "1798.0"
        ],
        [
         "Num_Credit_Card",
         "89938.0",
         "22.449409593275366",
         "129.03723280868533",
         "0.0",
         "4.0",
         "5.0",
         "7.0",
         "1499.0"
        ],
        [
         "Interest_Rate",
         "90151.0",
         "72.3439229736775",
         "465.6848217492534",
         "1.0",
         "8.0",
         "13.0",
         "20.0",
         "5797.0"
        ],
        [
         "Num_of_Loan",
         "89809.0",
         "3.0651159683327953",
         "63.193373111040536",
         "-100.0",
         "1.0",
         "3.0",
         "5.0",
         "1496.0"
        ],
        [
         "Delay_from_due_date",
         "90012.0",
         "21.081155845887213",
         "14.862706593658286",
         "-5.0",
         "10.0",
         "18.0",
         "28.0",
         "67.0"
        ],
        [
         "Num_of_Delayed_Payment",
         "83782.0",
         "31.041369267861832",
         "226.37029623645358",
         "-3.0",
         "9.0",
         "14.0",
         "18.0",
         "4388.0"
        ],
        [
         "Changed_Credit_Limit",
         "88058.0",
         "10.389097185945625",
         "6.78282852046774",
         "-6.49",
         "5.34",
         "9.41",
         "14.86",
         "36.97"
        ],
        [
         "Num_Credit_Inquiries",
         "88102.0",
         "27.84688202310958",
         "193.61084320625267",
         "0.0",
         "3.0",
         "6.0",
         "9.0",
         "2597.0"
        ],
        [
         "Outstanding_Debt",
         "90037.0",
         "1426.10076368604",
         "1154.6586736115098",
         "0.23",
         "566.4",
         "1167.04",
         "1943.08",
         "4998.07"
        ],
        [
         "Credit_Utilization_Ratio",
         "90025.0",
         "32.2909672206417",
         "5.1146698214563395",
         "20.10076996070649",
         "28.064417788600345",
         "32.31827997860508",
         "36.50227175030202",
         "50.00000000000001"
        ],
        [
         "Amount_invested_monthly",
         "85880.0",
         "636.1466616039725",
         "2041.2635191122513",
         "0.0",
         "74.3988463596237",
         "135.6726007059409",
         "265.1985959322373",
         "10000.0"
        ],
        [
         "Credit_Score",
         "100000.0",
         "1.88064",
         "0.6830650453496812",
         "0.0",
         "1.0",
         "2.0",
         "2.0",
         "3.0"
        ]
       ],
       "shape": {
        "columns": 8,
        "rows": 15
       }
      },
      "text/html": [
       "<div>\n",
       "<style scoped>\n",
       "    .dataframe tbody tr th:only-of-type {\n",
       "        vertical-align: middle;\n",
       "    }\n",
       "\n",
       "    .dataframe tbody tr th {\n",
       "        vertical-align: top;\n",
       "    }\n",
       "\n",
       "    .dataframe thead th {\n",
       "        text-align: right;\n",
       "    }\n",
       "</style>\n",
       "<table border=\"1\" class=\"dataframe\">\n",
       "  <thead>\n",
       "    <tr style=\"text-align: right;\">\n",
       "      <th></th>\n",
       "      <th>count</th>\n",
       "      <th>mean</th>\n",
       "      <th>std</th>\n",
       "      <th>min</th>\n",
       "      <th>25%</th>\n",
       "      <th>50%</th>\n",
       "      <th>75%</th>\n",
       "      <th>max</th>\n",
       "    </tr>\n",
       "  </thead>\n",
       "  <tbody>\n",
       "    <tr>\n",
       "      <th>Age</th>\n",
       "      <td>85512.0</td>\n",
       "      <td>110.226845</td>\n",
       "      <td>6.849076e+02</td>\n",
       "      <td>-500.000000</td>\n",
       "      <td>24.000000</td>\n",
       "      <td>33.000000</td>\n",
       "      <td>42.000000</td>\n",
       "      <td>8.698000e+03</td>\n",
       "    </tr>\n",
       "    <tr>\n",
       "      <th>Annual_Income</th>\n",
       "      <td>89906.0</td>\n",
       "      <td>176544.795590</td>\n",
       "      <td>1.429013e+06</td>\n",
       "      <td>7005.930000</td>\n",
       "      <td>19453.050000</td>\n",
       "      <td>37579.750000</td>\n",
       "      <td>72760.040000</td>\n",
       "      <td>2.419806e+07</td>\n",
       "    </tr>\n",
       "    <tr>\n",
       "      <th>Monthly_Inhand_Salary</th>\n",
       "      <td>76405.0</td>\n",
       "      <td>4185.789272</td>\n",
       "      <td>3.178561e+03</td>\n",
       "      <td>303.645417</td>\n",
       "      <td>1625.023750</td>\n",
       "      <td>3086.683333</td>\n",
       "      <td>5940.317500</td>\n",
       "      <td>1.520463e+04</td>\n",
       "    </tr>\n",
       "    <tr>\n",
       "      <th>Num_Bank_Accounts</th>\n",
       "      <td>90167.0</td>\n",
       "      <td>17.105172</td>\n",
       "      <td>1.177282e+02</td>\n",
       "      <td>-1.000000</td>\n",
       "      <td>3.000000</td>\n",
       "      <td>6.000000</td>\n",
       "      <td>7.000000</td>\n",
       "      <td>1.798000e+03</td>\n",
       "    </tr>\n",
       "    <tr>\n",
       "      <th>Num_Credit_Card</th>\n",
       "      <td>89938.0</td>\n",
       "      <td>22.449410</td>\n",
       "      <td>1.290372e+02</td>\n",
       "      <td>0.000000</td>\n",
       "      <td>4.000000</td>\n",
       "      <td>5.000000</td>\n",
       "      <td>7.000000</td>\n",
       "      <td>1.499000e+03</td>\n",
       "    </tr>\n",
       "    <tr>\n",
       "      <th>Interest_Rate</th>\n",
       "      <td>90151.0</td>\n",
       "      <td>72.343923</td>\n",
       "      <td>4.656848e+02</td>\n",
       "      <td>1.000000</td>\n",
       "      <td>8.000000</td>\n",
       "      <td>13.000000</td>\n",
       "      <td>20.000000</td>\n",
       "      <td>5.797000e+03</td>\n",
       "    </tr>\n",
       "    <tr>\n",
       "      <th>Num_of_Loan</th>\n",
       "      <td>89809.0</td>\n",
       "      <td>3.065116</td>\n",
       "      <td>6.319337e+01</td>\n",
       "      <td>-100.000000</td>\n",
       "      <td>1.000000</td>\n",
       "      <td>3.000000</td>\n",
       "      <td>5.000000</td>\n",
       "      <td>1.496000e+03</td>\n",
       "    </tr>\n",
       "    <tr>\n",
       "      <th>Delay_from_due_date</th>\n",
       "      <td>90012.0</td>\n",
       "      <td>21.081156</td>\n",
       "      <td>1.486271e+01</td>\n",
       "      <td>-5.000000</td>\n",
       "      <td>10.000000</td>\n",
       "      <td>18.000000</td>\n",
       "      <td>28.000000</td>\n",
       "      <td>6.700000e+01</td>\n",
       "    </tr>\n",
       "    <tr>\n",
       "      <th>Num_of_Delayed_Payment</th>\n",
       "      <td>83782.0</td>\n",
       "      <td>31.041369</td>\n",
       "      <td>2.263703e+02</td>\n",
       "      <td>-3.000000</td>\n",
       "      <td>9.000000</td>\n",
       "      <td>14.000000</td>\n",
       "      <td>18.000000</td>\n",
       "      <td>4.388000e+03</td>\n",
       "    </tr>\n",
       "    <tr>\n",
       "      <th>Changed_Credit_Limit</th>\n",
       "      <td>88058.0</td>\n",
       "      <td>10.389097</td>\n",
       "      <td>6.782829e+00</td>\n",
       "      <td>-6.490000</td>\n",
       "      <td>5.340000</td>\n",
       "      <td>9.410000</td>\n",
       "      <td>14.860000</td>\n",
       "      <td>3.697000e+01</td>\n",
       "    </tr>\n",
       "    <tr>\n",
       "      <th>Num_Credit_Inquiries</th>\n",
       "      <td>88102.0</td>\n",
       "      <td>27.846882</td>\n",
       "      <td>1.936108e+02</td>\n",
       "      <td>0.000000</td>\n",
       "      <td>3.000000</td>\n",
       "      <td>6.000000</td>\n",
       "      <td>9.000000</td>\n",
       "      <td>2.597000e+03</td>\n",
       "    </tr>\n",
       "    <tr>\n",
       "      <th>Outstanding_Debt</th>\n",
       "      <td>90037.0</td>\n",
       "      <td>1426.100764</td>\n",
       "      <td>1.154659e+03</td>\n",
       "      <td>0.230000</td>\n",
       "      <td>566.400000</td>\n",
       "      <td>1167.040000</td>\n",
       "      <td>1943.080000</td>\n",
       "      <td>4.998070e+03</td>\n",
       "    </tr>\n",
       "    <tr>\n",
       "      <th>Credit_Utilization_Ratio</th>\n",
       "      <td>90025.0</td>\n",
       "      <td>32.290967</td>\n",
       "      <td>5.114670e+00</td>\n",
       "      <td>20.100770</td>\n",
       "      <td>28.064418</td>\n",
       "      <td>32.318280</td>\n",
       "      <td>36.502272</td>\n",
       "      <td>5.000000e+01</td>\n",
       "    </tr>\n",
       "    <tr>\n",
       "      <th>Amount_invested_monthly</th>\n",
       "      <td>85880.0</td>\n",
       "      <td>636.146662</td>\n",
       "      <td>2.041264e+03</td>\n",
       "      <td>0.000000</td>\n",
       "      <td>74.398846</td>\n",
       "      <td>135.672601</td>\n",
       "      <td>265.198596</td>\n",
       "      <td>1.000000e+04</td>\n",
       "    </tr>\n",
       "    <tr>\n",
       "      <th>Credit_Score</th>\n",
       "      <td>100000.0</td>\n",
       "      <td>1.880640</td>\n",
       "      <td>6.830650e-01</td>\n",
       "      <td>0.000000</td>\n",
       "      <td>1.000000</td>\n",
       "      <td>2.000000</td>\n",
       "      <td>2.000000</td>\n",
       "      <td>3.000000e+00</td>\n",
       "    </tr>\n",
       "  </tbody>\n",
       "</table>\n",
       "</div>"
      ],
      "text/plain": [
       "                             count           mean           std          min  \\\n",
       "Age                        85512.0     110.226845  6.849076e+02  -500.000000   \n",
       "Annual_Income              89906.0  176544.795590  1.429013e+06  7005.930000   \n",
       "Monthly_Inhand_Salary      76405.0    4185.789272  3.178561e+03   303.645417   \n",
       "Num_Bank_Accounts          90167.0      17.105172  1.177282e+02    -1.000000   \n",
       "Num_Credit_Card            89938.0      22.449410  1.290372e+02     0.000000   \n",
       "Interest_Rate              90151.0      72.343923  4.656848e+02     1.000000   \n",
       "Num_of_Loan                89809.0       3.065116  6.319337e+01  -100.000000   \n",
       "Delay_from_due_date        90012.0      21.081156  1.486271e+01    -5.000000   \n",
       "Num_of_Delayed_Payment     83782.0      31.041369  2.263703e+02    -3.000000   \n",
       "Changed_Credit_Limit       88058.0      10.389097  6.782829e+00    -6.490000   \n",
       "Num_Credit_Inquiries       88102.0      27.846882  1.936108e+02     0.000000   \n",
       "Outstanding_Debt           90037.0    1426.100764  1.154659e+03     0.230000   \n",
       "Credit_Utilization_Ratio   90025.0      32.290967  5.114670e+00    20.100770   \n",
       "Amount_invested_monthly    85880.0     636.146662  2.041264e+03     0.000000   \n",
       "Credit_Score              100000.0       1.880640  6.830650e-01     0.000000   \n",
       "\n",
       "                                   25%           50%           75%  \\\n",
       "Age                          24.000000     33.000000     42.000000   \n",
       "Annual_Income             19453.050000  37579.750000  72760.040000   \n",
       "Monthly_Inhand_Salary      1625.023750   3086.683333   5940.317500   \n",
       "Num_Bank_Accounts             3.000000      6.000000      7.000000   \n",
       "Num_Credit_Card               4.000000      5.000000      7.000000   \n",
       "Interest_Rate                 8.000000     13.000000     20.000000   \n",
       "Num_of_Loan                   1.000000      3.000000      5.000000   \n",
       "Delay_from_due_date          10.000000     18.000000     28.000000   \n",
       "Num_of_Delayed_Payment        9.000000     14.000000     18.000000   \n",
       "Changed_Credit_Limit          5.340000      9.410000     14.860000   \n",
       "Num_Credit_Inquiries          3.000000      6.000000      9.000000   \n",
       "Outstanding_Debt            566.400000   1167.040000   1943.080000   \n",
       "Credit_Utilization_Ratio     28.064418     32.318280     36.502272   \n",
       "Amount_invested_monthly      74.398846    135.672601    265.198596   \n",
       "Credit_Score                  1.000000      2.000000      2.000000   \n",
       "\n",
       "                                   max  \n",
       "Age                       8.698000e+03  \n",
       "Annual_Income             2.419806e+07  \n",
       "Monthly_Inhand_Salary     1.520463e+04  \n",
       "Num_Bank_Accounts         1.798000e+03  \n",
       "Num_Credit_Card           1.499000e+03  \n",
       "Interest_Rate             5.797000e+03  \n",
       "Num_of_Loan               1.496000e+03  \n",
       "Delay_from_due_date       6.700000e+01  \n",
       "Num_of_Delayed_Payment    4.388000e+03  \n",
       "Changed_Credit_Limit      3.697000e+01  \n",
       "Num_Credit_Inquiries      2.597000e+03  \n",
       "Outstanding_Debt          4.998070e+03  \n",
       "Credit_Utilization_Ratio  5.000000e+01  \n",
       "Amount_invested_monthly   1.000000e+04  \n",
       "Credit_Score              3.000000e+00  "
      ]
     },
     "execution_count": 56,
     "metadata": {},
     "output_type": "execute_result"
    }
   ],
   "source": [
    "credit_card_df.describe().T"
   ]
  },
  {
   "cell_type": "markdown",
   "metadata": {},
   "source": [
    "We can instantly see that the dataset contains some strange values. As an example, the column **Age** has both negative (minimun value = -500) and very high values (maximum value = 8698). \n",
    "It is also possible to note that the target variable **Credit Score** score is more a categorical variable than a continuous one, as it has only 4 unique values. As a consequence, we will convert the target variable into a categorical variable."
   ]
  },
  {
   "cell_type": "code",
   "execution_count": 57,
   "metadata": {},
   "outputs": [
    {
     "data": {
      "application/vnd.microsoft.datawrangler.viewer.v0+json": {
       "columns": [
        {
         "name": "index",
         "rawType": "object",
         "type": "string"
        },
        {
         "name": "count",
         "rawType": "object",
         "type": "unknown"
        },
        {
         "name": "unique",
         "rawType": "object",
         "type": "unknown"
        },
        {
         "name": "top",
         "rawType": "object",
         "type": "unknown"
        },
        {
         "name": "freq",
         "rawType": "object",
         "type": "unknown"
        }
       ],
       "conversionMethod": "pd.DataFrame",
       "ref": "aaf01f37-93c1-4968-9800-6ddc065fe79d",
       "rows": [
        [
         "ID",
         "90058",
         "90058",
         "0x25fed",
         "1"
        ],
        [
         "Customer_ID",
         "90107",
         "12500",
         "CUS_0x8600",
         "8"
        ],
        [
         "Month",
         "90062",
         "8",
         "April",
         "11319"
        ],
        [
         "Name",
         "81113",
         "10139",
         "Langep",
         "42"
        ],
        [
         "City",
         "90149",
         "4",
         "Standhampton",
         "47744"
        ],
        [
         "Street",
         "90080",
         "31",
         "Quality Street",
         "5343"
        ],
        [
         "SSN",
         "89999",
         "12501",
         "#F%$D@*&8",
         "5008"
        ],
        [
         "Occupation",
         "90056",
         "21",
         "Journalist",
         "17002"
        ],
        [
         "Type_of_Loan",
         "79688",
         "6260",
         "Not Specified",
         "1272"
        ],
        [
         "Credit_Mix",
         "90085",
         "4",
         "Standard",
         "32875"
        ],
        [
         "Credit_History_Age",
         "81791",
         "404",
         "17 Years and 11 Months",
         "407"
        ],
        [
         "Payment_of_Min_Amount",
         "90043",
         "3",
         "Yes",
         "47204"
        ],
        [
         "Credit_Score",
         "100000",
         "4",
         "2",
         "52974"
        ]
       ],
       "shape": {
        "columns": 4,
        "rows": 13
       }
      },
      "text/html": [
       "<div>\n",
       "<style scoped>\n",
       "    .dataframe tbody tr th:only-of-type {\n",
       "        vertical-align: middle;\n",
       "    }\n",
       "\n",
       "    .dataframe tbody tr th {\n",
       "        vertical-align: top;\n",
       "    }\n",
       "\n",
       "    .dataframe thead th {\n",
       "        text-align: right;\n",
       "    }\n",
       "</style>\n",
       "<table border=\"1\" class=\"dataframe\">\n",
       "  <thead>\n",
       "    <tr style=\"text-align: right;\">\n",
       "      <th></th>\n",
       "      <th>count</th>\n",
       "      <th>unique</th>\n",
       "      <th>top</th>\n",
       "      <th>freq</th>\n",
       "    </tr>\n",
       "  </thead>\n",
       "  <tbody>\n",
       "    <tr>\n",
       "      <th>ID</th>\n",
       "      <td>90058</td>\n",
       "      <td>90058</td>\n",
       "      <td>0x25fed</td>\n",
       "      <td>1</td>\n",
       "    </tr>\n",
       "    <tr>\n",
       "      <th>Customer_ID</th>\n",
       "      <td>90107</td>\n",
       "      <td>12500</td>\n",
       "      <td>CUS_0x8600</td>\n",
       "      <td>8</td>\n",
       "    </tr>\n",
       "    <tr>\n",
       "      <th>Month</th>\n",
       "      <td>90062</td>\n",
       "      <td>8</td>\n",
       "      <td>April</td>\n",
       "      <td>11319</td>\n",
       "    </tr>\n",
       "    <tr>\n",
       "      <th>Name</th>\n",
       "      <td>81113</td>\n",
       "      <td>10139</td>\n",
       "      <td>Langep</td>\n",
       "      <td>42</td>\n",
       "    </tr>\n",
       "    <tr>\n",
       "      <th>City</th>\n",
       "      <td>90149</td>\n",
       "      <td>4</td>\n",
       "      <td>Standhampton</td>\n",
       "      <td>47744</td>\n",
       "    </tr>\n",
       "    <tr>\n",
       "      <th>Street</th>\n",
       "      <td>90080</td>\n",
       "      <td>31</td>\n",
       "      <td>Quality Street</td>\n",
       "      <td>5343</td>\n",
       "    </tr>\n",
       "    <tr>\n",
       "      <th>SSN</th>\n",
       "      <td>89999</td>\n",
       "      <td>12501</td>\n",
       "      <td>#F%$D@*&amp;8</td>\n",
       "      <td>5008</td>\n",
       "    </tr>\n",
       "    <tr>\n",
       "      <th>Occupation</th>\n",
       "      <td>90056</td>\n",
       "      <td>21</td>\n",
       "      <td>Journalist</td>\n",
       "      <td>17002</td>\n",
       "    </tr>\n",
       "    <tr>\n",
       "      <th>Type_of_Loan</th>\n",
       "      <td>79688</td>\n",
       "      <td>6260</td>\n",
       "      <td>Not Specified</td>\n",
       "      <td>1272</td>\n",
       "    </tr>\n",
       "    <tr>\n",
       "      <th>Credit_Mix</th>\n",
       "      <td>90085</td>\n",
       "      <td>4</td>\n",
       "      <td>Standard</td>\n",
       "      <td>32875</td>\n",
       "    </tr>\n",
       "    <tr>\n",
       "      <th>Credit_History_Age</th>\n",
       "      <td>81791</td>\n",
       "      <td>404</td>\n",
       "      <td>17 Years and 11 Months</td>\n",
       "      <td>407</td>\n",
       "    </tr>\n",
       "    <tr>\n",
       "      <th>Payment_of_Min_Amount</th>\n",
       "      <td>90043</td>\n",
       "      <td>3</td>\n",
       "      <td>Yes</td>\n",
       "      <td>47204</td>\n",
       "    </tr>\n",
       "    <tr>\n",
       "      <th>Credit_Score</th>\n",
       "      <td>100000</td>\n",
       "      <td>4</td>\n",
       "      <td>2</td>\n",
       "      <td>52974</td>\n",
       "    </tr>\n",
       "  </tbody>\n",
       "</table>\n",
       "</div>"
      ],
      "text/plain": [
       "                        count unique                     top   freq\n",
       "ID                      90058  90058                 0x25fed      1\n",
       "Customer_ID             90107  12500              CUS_0x8600      8\n",
       "Month                   90062      8                   April  11319\n",
       "Name                    81113  10139                  Langep     42\n",
       "City                    90149      4            Standhampton  47744\n",
       "Street                  90080     31          Quality Street   5343\n",
       "SSN                     89999  12501               #F%$D@*&8   5008\n",
       "Occupation              90056     21              Journalist  17002\n",
       "Type_of_Loan            79688   6260           Not Specified   1272\n",
       "Credit_Mix              90085      4                Standard  32875\n",
       "Credit_History_Age      81791    404  17 Years and 11 Months    407\n",
       "Payment_of_Min_Amount   90043      3                     Yes  47204\n",
       "Credit_Score           100000      4                       2  52974"
      ]
     },
     "execution_count": 57,
     "metadata": {},
     "output_type": "execute_result"
    }
   ],
   "source": [
    "# Convert target variable to object type\n",
    "credit_card_df['Credit_Score'] = credit_card_df['Credit_Score'].astype('object')\n",
    "\n",
    "# Display the summary statistics for categorical features\n",
    "credit_card_df.describe(include=\"object\").T"
   ]
  },
  {
   "cell_type": "markdown",
   "metadata": {},
   "source": [
    "We firstly tried to plot the distribution of numerical variables without addressing outliers or noisy values. However, the presence of outliers and extreme values in the dataset made it difficult to visualize the distribution effectively. \n",
    "To improve the visualization, we decided to remove outliers from the dataset. However, because of the presence of an high number of missing values, we had to address them first."
   ]
  },
  {
   "cell_type": "markdown",
   "metadata": {},
   "source": [
    "## 2) Missing values imputation\n",
    "\n",
    "The dataset contains numerous missing values, likely due to poor data collection or entry errors. It is also possible that an event occurred, leading to the loss of many values. However, we observe that there are only 12,500 unique `Customer_ID` values across 100,000 entries. This indicates that many customers are repeated throughout the dataset. Consequently, for missing values that should remain consistent for the same customer, we can impute them using the corresponding values from other rows associated with the same customer.\n",
    "\n",
    "The first issue to fix is hence to address the missing values in the `Customer_ID` column. "
   ]
  },
  {
   "cell_type": "code",
   "execution_count": 58,
   "metadata": {},
   "outputs": [],
   "source": [
    "# Before making changes, we store a copy of the original dataset\n",
    "credit_card_df_original = credit_card_df.copy()"
   ]
  },
  {
   "cell_type": "markdown",
   "metadata": {},
   "source": [
    "### 2.1) Imputation of missing values in the `Customer_ID` column"
   ]
  },
  {
   "cell_type": "markdown",
   "metadata": {},
   "source": [
    "We firstly display the number of missing values in the `Customer_ID` column. "
   ]
  },
  {
   "cell_type": "code",
   "execution_count": 59,
   "metadata": {},
   "outputs": [
    {
     "name": "stdout",
     "output_type": "stream",
     "text": [
      "Missing Customer_ID: 9893\n"
     ]
    }
   ],
   "source": [
    "missing_customerID = credit_card_df['Customer_ID'].isnull().sum()\n",
    "print(f\"Missing Customer_ID: {missing_customerID}\")"
   ]
  },
  {
   "cell_type": "markdown",
   "metadata": {},
   "source": [
    "By looking at the dataset we go the impression that each client has a monthly analysis of his credit cards on a range of months that goes from January to August. Consequently, we trid to prove the hypothesis by checking that the number of unique values in the `Customer_ID` column every 8 rows is constant and equal to 1.\n",
    "\n",
    "Example of correct order:       \n",
    "| Customer_ID | Month    |\n",
    "|-------------|----------|\n",
    "| Client 1    | January  |\n",
    "| Client 1    | February |\n",
    "| Client 1    | March    |\n",
    "| Client 1    | April    |\n",
    "| Client 1    | May      |\n",
    "| Client 1    | June     |\n",
    "| Client 1    | July     |\n",
    "| Client 1    | August   |"
   ]
  },
  {
   "cell_type": "code",
   "execution_count": 60,
   "metadata": {},
   "outputs": [
    {
     "name": "stdout",
     "output_type": "stream",
     "text": [
      "Number of times Customer ID is the unique and not missing every 8 rows: 12500\n",
      "Number of unique Customer IDs: 12500\n"
     ]
    }
   ],
   "source": [
    "# Check if every 8 rows, the Customer ID is unique\n",
    "counter = 0\n",
    "for i in range(0, len(credit_card_df), 8): # Iterate through the DataFrame in steps of 8\n",
    "    if credit_card_df['Customer_ID'][i:i+7].nunique() > 1: # Check for 8 rows\n",
    "        print(f\"Different Customer ID found in rows {i} to {i+7}\")\n",
    "    # Check the number of misisng values\n",
    "    if credit_card_df['Customer_ID'][i:i+7].isnull().sum() > 6:\n",
    "        print(f\"Missing Customer IDs found in rows {i} to {i+7}\")\n",
    "    else:\n",
    "        counter += 1\n",
    "\n",
    "print(f\"Number of times Customer ID is the unique and not missing every 8 rows: {counter}\")\n",
    "print(f\"Number of unique Customer IDs: {credit_card_df['Customer_ID'].nunique()}\")"
   ]
  },
  {
   "cell_type": "markdown",
   "metadata": {},
   "source": [
    "As we can see, the output of the previous cell shows that the column `Customer_ID` has 12,500 unique values, and each of them is repeated 8 times for the 8 months in which the customer was monitored.\n",
    "This also implies that there is no customer with a missing `Customer_ID` value, as the number of unique values every 8 rows (which is confirmed to be 1) is equal to the number of unique values in the entire column. As a consequence, there are not wrong entries, but only missing values, that can be easily imputed by taking the unique value of the `Customer_ID` column for each group of 8 rows."
   ]
  },
  {
   "cell_type": "code",
   "execution_count": 61,
   "metadata": {},
   "outputs": [
    {
     "name": "stdout",
     "output_type": "stream",
     "text": [
      "Missing Customer_ID after imputation: 0\n"
     ]
    }
   ],
   "source": [
    "seen_customer_ids = set()\n",
    "\n",
    "for i in range(0, len(credit_card_df)):\n",
    "    customer_id = credit_card_df['Customer_ID'][i]\n",
    "    if customer_id in seen_customer_ids or pd.isnull(customer_id):\n",
    "        # If the customer ID is already seen or is null we skip this row\n",
    "        continue\n",
    "    else:\n",
    "        # If the customer ID is not seen, we add it to the set\n",
    "        seen_customer_ids.add(customer_id)\n",
    "        # We use this customer ID to impute the missing values in the 8 rows of the group\n",
    "        credit_card_df.loc[(i//8*8) : (i//8*8) + 7, 'Customer_ID'] = customer_id\n",
    "\n",
    "# Check if there are still any missing values in the Customer_ID column\n",
    "missing_customerID = credit_card_df['Customer_ID'].isnull().sum()\n",
    "print(f\"Missing Customer_ID after imputation: {missing_customerID}\")"
   ]
  },
  {
   "cell_type": "markdown",
   "metadata": {},
   "source": [
    "After the imputation, we can check if the Customer_ID is unique and not missing every 8 rows. We can also check the number of unique Customer IDs in the DataFrame."
   ]
  },
  {
   "cell_type": "code",
   "execution_count": 62,
   "metadata": {},
   "outputs": [
    {
     "name": "stdout",
     "output_type": "stream",
     "text": [
      "Number of times Customer ID is the same in 8 rows: 12500\n",
      "Missing Customer_ID: 0\n"
     ]
    }
   ],
   "source": [
    "# Check that there is still only one unique Customer_ID in every 8 rows nad that there are no missing values\n",
    "counter = 0\n",
    "for i in range(0, len(credit_card_df), 8): # Iterate through the DataFrame in steps of 8\n",
    "    if credit_card_df['Customer_ID'][i:i+7].nunique() > 1: # Check for 8 rows\n",
    "        print(f\"Different Customer ID found in rows {i} to {i+7}\")\n",
    "    else:\n",
    "        counter += 1\n",
    "print(f\"Number of times Customer ID is the same in 8 rows: {counter}\")\n",
    "\n",
    "missing_customerID = credit_card_df['Customer_ID'].isnull().sum()\n",
    "print(f\"Missing Customer_ID: {missing_customerID}\")"
   ]
  },
  {
   "cell_type": "markdown",
   "metadata": {},
   "source": [
    "### 2.2) Filling the missing values in the `month` column\n",
    "\n",
    "As we proved in the previous section, the dataset contains 8 months of data for each customer. Here we  fix the remaining missing values for `month` by simply putting the right sequence (from January to August) for each 8 rows (data stored for each customer)."
   ]
  },
  {
   "cell_type": "code",
   "execution_count": 63,
   "metadata": {},
   "outputs": [
    {
     "name": "stdout",
     "output_type": "stream",
     "text": [
      "Missing Month values: 0\n"
     ]
    }
   ],
   "source": [
    "# Define the expected month order.\n",
    "month_order = ['January', 'February', 'March', 'April', 'May', 'June', 'July', 'August']\n",
    "\n",
    "# Reset the index to ensure we're working on the DataFrame's natural order (if needed)\n",
    "credit_card_df = credit_card_df.reset_index(drop=True)\n",
    "\n",
    "# Create a new month column with a repeating cycle: each group of 8 rows gets January to August.\n",
    "credit_card_df['Month'] = [month_order[i % 8] for i in range(len(credit_card_df))]\n",
    "\n",
    "# Check Missing Values in the Month Column\n",
    "missing_month = credit_card_df['Month'].isnull().sum()\n",
    "print(f\"Missing Month values: {missing_month}\")"
   ]
  },
  {
   "cell_type": "markdown",
   "metadata": {},
   "source": [
    "### 2.3) Filling the columns 'Name', 'City', 'Street' and 'Occupation'\n",
    "\n",
    "These columns must be filled with the same value for each customer, and hence it is easy to impute them, especially because there are no missing values in the `Customer_ID` column and there are not customers for which one of these information is missing. Just to be sure, we can check the number of unique values in these columns every 8 rows, to confirm that they are all the same for each customer."
   ]
  },
  {
   "cell_type": "code",
   "execution_count": 64,
   "metadata": {},
   "outputs": [
    {
     "name": "stdout",
     "output_type": "stream",
     "text": [
      "Number of times Name is different for the same customer: 0\n",
      "Number of times City is different for the same customer: 6633\n",
      "Number of times Street is different for the same customer: 0\n",
      "Number of times Occupation is different for the same customer: 0\n"
     ]
    }
   ],
   "source": [
    "# Check that the data is unique every 8 rows\n",
    "counter_name = 0\n",
    "counter_city = 0\n",
    "counter_street = 0\n",
    "counter_occupation = 0\n",
    "for i in range(0, len(credit_card_df), 8): # Iterate through the DataFrame in steps of 8\n",
    "    if credit_card_df['Name'][i:i+7].nunique() > 1:\n",
    "        # print(f\"Different Name found in rows {i} to {i+7}\")\n",
    "        counter_name += 1\n",
    "    if credit_card_df['City'][i:i+7].nunique() > 1:\n",
    "        # print(f\"Different City found in rows {i} to {i+7}\")\n",
    "        counter_city += 1\n",
    "    if credit_card_df['Street'][i:i+7].nunique() > 1:\n",
    "        # print(f\"Different Street found in rows {i} to {i+7}\")\n",
    "        counter_street += 1\n",
    "    if credit_card_df['Occupation'][i:i+7].nunique() > 1:\n",
    "        # print(f\"Different Occupation found in rows {i} to {i+7}\")\n",
    "        counter_occupation += 1\n",
    "\n",
    "print(f\"Number of times Name is different for the same customer: {counter_name}\")\n",
    "print(f\"Number of times City is different for the same customer: {counter_city}\")\n",
    "print(f\"Number of times Street is different for the same customer: {counter_street}\")\n",
    "print(f\"Number of times Occupation is different for the same customer: {counter_occupation}\")"
   ]
  },
  {
   "cell_type": "markdown",
   "metadata": {},
   "source": [
    "Even though the customer ID is unique every 8 rows and there are not issues with Name, Street and Occupation, meaning that there is a unique value for each customer, the `City` column presents a huge problem. Indeed, considering the output of the previous cell, we can see how more than half of the customers changed city during the 8 months of monitoring at least once. \n",
    "\n",
    "As a consequence, we decided to impute the `City` column with the most frequent value for each customer. This is a reasonable approach, as it is likely that the customer lived in that city for most of the time. We can also check how many customers changed city at least once during the 8 months of monitoring."
   ]
  },
  {
   "cell_type": "code",
   "execution_count": 65,
   "metadata": {},
   "outputs": [
    {
     "name": "stdout",
     "output_type": "stream",
     "text": [
      "Missing values in invariant columns after filling: Name          0\n",
      "Street        0\n",
      "Occupation    0\n",
      "dtype: int64\n",
      "Missing values in city column after filling: 0\n"
     ]
    }
   ],
   "source": [
    "# Fix the city column\n",
    "# Impute the City column with the most common city for each Customer_ID\n",
    "credit_card_df['City'] = credit_card_df.groupby('Customer_ID')['City'].transform(lambda x: x.fillna(x.mode()[0] if not x.mode().empty else None))\n",
    "\n",
    "# Impute missing values in the Name, Street, and Occupation columns\n",
    "cols_invariant = ['Name', 'Street', 'Occupation']\n",
    "for col in cols_invariant:\n",
    "    credit_card_df[col] = credit_card_df.groupby('Customer_ID')[col].transform(lambda x: x.ffill().bfill())\n",
    "\n",
    "# Check for any remaining missing values in the columns\n",
    "missing_values = credit_card_df[cols_invariant].isnull().sum()\n",
    "city_missing_values = credit_card_df['City'].isnull().sum()\n",
    "print(f\"Missing values in invariant columns after filling: {missing_values}\")\n",
    "print(f\"Missing values in city column after filling: {city_missing_values}\")"
   ]
  },
  {
   "cell_type": "markdown",
   "metadata": {},
   "source": [
    "\n",
    "### 2.4) Fixing Age\n",
    "\n",
    "With the age column, we identified two main issues:\n",
    "\n",
    "- Inconsistent values across months: For some customers, the age values fluctuate unrealistically between months. For example, in January, a customer might have an age of 23, in February -500 (which is impossible), and in March, it reverts back to 23. We opted to change these impossible values to NaN, as they are not valid ages.\n",
    "- Age increment due to birthdates between January and August: Many customers have their birthdays between January and August, causing their age to increase by one year during this period. For these cases, it is acceptable to have some rows with one age value (e.g., 54) and others with the incremented value (e.g., 55). \n",
    "\n",
    "To handle this, we substiute the missing values or the values that have a difference with the previous one of more than 1 with the value of the previous month. If the latter is not available, we can use the next month value."
   ]
  },
  {
   "cell_type": "code",
   "execution_count": 66,
   "metadata": {},
   "outputs": [
    {
     "name": "stdout",
     "output_type": "stream",
     "text": [
      "Missing Age values after filling: 0\n"
     ]
    }
   ],
   "source": [
    "# Set impossible values to NaN\n",
    "credit_card_df.loc[(credit_card_df['Age'] > 90) | (credit_card_df['Age'] < 0), 'Age'] = np.nan\n",
    "\n",
    "# Impute missing values in the Age column using backward and forward fill\n",
    "credit_card_df['Age'] = credit_card_df.groupby('Customer_ID')['Age'].ffill().bfill()\n",
    "\n",
    "# Check for any remaining missing values in the Age column\n",
    "print(f\"Missing Age values after filling: {credit_card_df['Age'].isnull().sum()}\")\n"
   ]
  },
  {
   "cell_type": "markdown",
   "metadata": {},
   "source": [
    "To make sure that the filling was done correctly, we can check the number of unique values in the `Age` column every 8 rows. \n",
    "If the imputation was successful, we should see that the number of unique values is at most 2, as we have only two possible values for each customer: the age before the birthday and the age after the birthday. Also, in this case, we have to ensure that theages are sorted in ascending order, as it is not possible to have a customer with an age of 23 in January and 22 in February."
   ]
  },
  {
   "cell_type": "code",
   "execution_count": 67,
   "metadata": {},
   "outputs": [
    {
     "name": "stdout",
     "output_type": "stream",
     "text": [
      "Number of times Age is correct in 8 rows: 12500\n"
     ]
    }
   ],
   "source": [
    "# Check that the data is unique or sorted every 8 rows\n",
    "counter = 0\n",
    "for i in range(0, len(credit_card_df), 8): # Iterate through the DataFrame in steps of 8\n",
    "    if credit_card_df[\"Age\"][i:i+7].nunique() > 2: # Check for 8 rows\n",
    "        print(f\"Different values found in rows {i} to {i+7}\")\n",
    "    elif credit_card_df[\"Age\"][i:i+7].nunique() > 1:\n",
    "        # Check if the values are sorted\n",
    "        if credit_card_df[\"Age\"][i:i+7].tolist() != sorted(credit_card_df[\"Age\"][i:i+7].tolist()):\n",
    "            print(f\"Values not in the correct order between {i} and {i+7}\")\n",
    "            credit_card_df[\"Age\"][i:i+7] = sorted(credit_card_df[\"Age\"][i:i+7].tolist())\n",
    "        else:\n",
    "            counter += 1\n",
    "    else:\n",
    "        counter += 1\n",
    "\n",
    "print(f\"Number of times Age is correct in 8 rows: {counter}\")\n"
   ]
  },
  {
   "cell_type": "markdown",
   "metadata": {},
   "source": [
    "### 2.5) Filling Missing SSN Values\n",
    "The Social Security Number, should uniquely identify a customer. Since a customer's SSN is expected to remain constant over time, any missing or invalid SSN in one row can be reliably filled using a valid SSN from another row belonging to the same customer. We decided to treat this column differently from the others, as it also contains some invalid values.\n",
    "Firtsly, we defined a function to verify if the SSN matches the standard format (three digits, a dash, two digits, a dash, and four digits). Values that do not meet this pattern or that correspond to known placeholders are set as missing (NaN).\n",
    "By grouping the data using the Customer_ID, we can apply forward fill and backward fill within each group. This ensures that if at least one valid SSN exists among the 8 rows for the same customer, it is propagated to fill any missing values.\n",
    "\n",
    "This method leverages the consistency of SSN within each customer group and the sequential structure of the dataset."
   ]
  },
  {
   "cell_type": "code",
   "execution_count": 68,
   "metadata": {},
   "outputs": [
    {
     "name": "stdout",
     "output_type": "stream",
     "text": [
      "Missing SSN values after filling: 0\n",
      "Number of times SSN is the same in 8 rows: 12500\n",
      "Number of unique SSNs: 12500\n"
     ]
    }
   ],
   "source": [
    "# Convert special placeholders into NaN.\n",
    "def is_valid_ssn(x):\n",
    "    \"\"\"\n",
    "    Checks if x matches the typical SSN format: 3 digits, '-', 2 digits, '-', 4 digits.\n",
    "    Example: 821-00-0265\n",
    "    \"\"\"\n",
    "    pattern = r'^\\d{3}-\\d{2}-\\d{4}$'\n",
    "    return bool(re.match(pattern, str(x)))\n",
    "\n",
    "# Apply the function to the SSN column and set invalid SSNs to NaN\n",
    "credit_card_df.loc[~credit_card_df['SSN'].apply(is_valid_ssn), 'SSN'] = np.nan\n",
    "\n",
    "# Impute missing values in the SSN column using the mode\n",
    "mode_values = credit_card_df.groupby('Customer_ID')[\"SSN\"].agg(lambda x: x.mode().iloc[0] if not x.mode().empty else None)\n",
    "credit_card_df[\"SSN\"] = credit_card_df['Customer_ID'].map(mode_values)\n",
    "\n",
    "# Check for any remaining missing values in the SSN column\n",
    "missing_ssn = credit_card_df['SSN'].isnull().sum()\n",
    "print(f\"Missing SSN values after filling: {missing_ssn}\")\n",
    "\n",
    "# Check that the data is unique every 8 rows\n",
    "counter = 0\n",
    "for i in range(0, len(credit_card_df), 8): # Iterate through the DataFrame in steps of 8\n",
    "    if credit_card_df['SSN'][i:i+7].nunique() > 1: # Check for 8 rows\n",
    "        print(f\"Different SSN found in rows {i} to {i+7}\")\n",
    "    else:\n",
    "        counter += 1\n",
    "\n",
    "print(f\"Number of times SSN is the same in 8 rows: {counter}\")\n",
    "print(f\"Number of unique SSNs: {credit_card_df['SSN'].nunique()}\")"
   ]
  },
  {
   "cell_type": "markdown",
   "metadata": {},
   "source": [
    "### 2.6) Filling Missing Values in Annual Income, Monthly Inhand Salary, Num Bank Accounts, Num Credit Card, Interest Rate and Num of Loan\n",
    "We suspect that some columns (for example, Annual_Income, Monthly_Inhand_Salary, Num_Bank_Accounts, Num_Credit_Card, Interest_Rate, and Num_of_Loan) should remain constant over the 8 monthly records for each customer. However, there is a possibility that for some columns (such as Monthly_Inhand_Salary) the values might change from month to month. \n",
    "\n",
    "To decide if we can impute missing values using the same method as before, we first need to verify that the values in these columns do not vary within the same customer. The code below groups the data by Customer_ID and computes the number of unique values for each candidate column obviously excluding the missing values. This allows us to calculate the percentage of customers that have more than one unique value per column. It also signals the customers for which there is an high variation in the values of the column."
   ]
  },
  {
   "cell_type": "code",
   "execution_count": 69,
   "metadata": {},
   "outputs": [
    {
     "name": "stdout",
     "output_type": "stream",
     "text": [
      "Column Annual_Income has a large difference in rows 48 to 55\n",
      "Column Annual_Income has 779 groups with differences and 762 groups with large differences.\n",
      "Column Annual_Income is not invariant across months.\n",
      "Column Monthly_Inhand_Salary has 616 groups with differences and 0 groups with large differences.\n",
      "Column Monthly_Inhand_Salary is not invariant across months.\n",
      "Column Num_Bank_Accounts has a large difference in rows 264 to 271\n",
      "Column Num_Bank_Accounts has 1229 groups with differences and 958 groups with large differences.\n",
      "Column Num_Bank_Accounts is not invariant across months.\n",
      "Column Num_Credit_Card has a large difference in rows 8 to 15\n",
      "Column Num_Credit_Card has 1909 groups with differences and 1600 groups with large differences.\n",
      "Column Num_Credit_Card is not invariant across months.\n",
      "Column Interest_Rate has a large difference in rows 88 to 95\n",
      "Column Interest_Rate has 1508 groups with differences and 1459 groups with large differences.\n",
      "Column Interest_Rate is not invariant across months.\n"
     ]
    }
   ],
   "source": [
    "# Define the candidate columns that might be invariant across months for each customer\n",
    "candidate_cols = [\n",
    "    \"Annual_Income\",\n",
    "    \"Monthly_Inhand_Salary\",\n",
    "    \"Num_Bank_Accounts\",\n",
    "    \"Num_Credit_Card\",\n",
    "    \"Interest_Rate\",\n",
    "]\n",
    "\n",
    "# Check if the values are the same for each customer across all months (8 rows)\n",
    "flag = False\n",
    "for col in candidate_cols:\n",
    "    group_dif= 0\n",
    "    group_large_dif = 0\n",
    "    for i in range(0, len(credit_card_df), 8): # Iterate through the DataFrame in steps of 8\n",
    "        if credit_card_df[col][i:i+7].nunique() > 1: # Check for 8 rows\n",
    "            # Check the difference between the maximum and minimum values\n",
    "            # print(f\"Column {col} is not invariant across months in rows {i} to {i+7}\")\n",
    "            flag = True\n",
    "            group_dif += 1\n",
    "            if credit_card_df[col][i:i+7].max() > credit_card_df[col][i:i+7].dropna().nsmallest(4).mean()*10:\n",
    "                if group_large_dif == 0:\n",
    "                    print(f\"Column {col} has a large difference in rows {i} to {i+7}\")\n",
    "                group_large_dif += 1     \n",
    "    print(f\"Column {col} has {group_dif} groups with differences and {group_large_dif} groups with large differences.\")\n",
    "    if flag:\n",
    "        print(f\"Column {col} is not invariant across months.\")\n",
    "    else:\n",
    "        print(f\"Column {col} is invariant across months.\")\n",
    "\n",
    "\n"
   ]
  },
  {
   "cell_type": "markdown",
   "metadata": {},
   "source": [
    "We have seen that the columns `Num_Bank_Accounts`, `Num_Credit_Card`, `Interest_Rate`, and `Num_of_Loan` show different values for the same customer. However, we also noticed that the columns often show a difference between the highest and lowest value that seems to be too high to be considered as a normal variation. As a consequence, we decided to treat these outlies as wrong values, set them to NaN and then impute them together with the other missing values."
   ]
  },
  {
   "cell_type": "markdown",
   "metadata": {},
   "source": [
    "To double check the assumption, we verify that there is no customer that has in the following column the specified value as mode:\n",
    "- Annual income that is greater than 1 million\n",
    "- Monthly inhand salary greater than 1 million\n",
    "- Interest rate greater than 100% (of course, this is not possible)\n",
    "- Number of bank accounts greater than 15\n",
    "- Number of credit cards greater than 15"
   ]
  },
  {
   "cell_type": "code",
   "execution_count": 70,
   "metadata": {},
   "outputs": [
    {
     "name": "stdout",
     "output_type": "stream",
     "text": [
      "Number of times Annual Income is greater than 1 million more than twice for a single customer: 2\n",
      "Number of times Monthly Income is greater than 1 million more than twice for a single customer: 0\n",
      "Number of times Num Bank Accounts is greater than 10 more than twice for a single customer: 4\n",
      "Number of times Num Credit Card is greater than 11 more than twice for a single customer: 5\n"
     ]
    }
   ],
   "source": [
    "# How many times there is a customer with an annual income greater than 1 million as the most frequent value in 8 rows\n",
    "counter_income = 0\n",
    "counter_monthly_income = 0\n",
    "counter_num_bank_accounts = 0\n",
    "counter_num_credit_card = 0\n",
    "\n",
    "for i in range(0, len(credit_card_df), 8):  # Iterate through the DataFrame in steps of 8\n",
    "    # Count how many times the annual income is greater than 1 million\n",
    "    filter_annual_income = credit_card_df[\"Annual_Income\"][i:i+8] > 1 * 10**6\n",
    "    filter_monthly_income = credit_card_df[\"Monthly_Inhand_Salary\"][i:i+8] > 1 * 10**5 \n",
    "    filter_num_bank_accounts = credit_card_df[\"Num_Bank_Accounts\"][i:i+8] > 10\n",
    "    filter_num_credit_card = credit_card_df[\"Num_Credit_Card\"][i:i+8] > 11\n",
    "\n",
    "    count_annual_income = filter_annual_income.sum()\n",
    "    count_monthly_income = filter_monthly_income.sum()\n",
    "    count_num_bank_accounts = filter_num_bank_accounts.sum()\n",
    "    count_num_credit_card = filter_num_credit_card.sum()\n",
    "    \n",
    "    if count_annual_income > 2:\n",
    "        # print(f\"Annual Income greater than 1 million in rows {i} to {i+7}: {count_annual_income} times\")\n",
    "        counter_income += 1\n",
    "    \n",
    "    if count_monthly_income > 0:\n",
    "        # print(f\"Monthly Income greater than 1 million in rows {i} to {i+7}: {count_monthly_income} times\")\n",
    "        counter_monthly_income += 1\n",
    "\n",
    "    if count_num_bank_accounts > 2:\n",
    "        # print(f\"Num Bank Accounts greater than 15 in rows {i} to {i+7}: {count_num_bank_accounts} times\")\n",
    "        counter_num_bank_accounts += 1\n",
    "\n",
    "    if count_num_credit_card > 2:\n",
    "        # print(f\"Num Credit Card greater than 15 in rows {i} to {i+7}: {count_num_credit_card} times\")\n",
    "        counter_num_credit_card += 1\n",
    "    \n",
    "print(f\"Number of times Annual Income is greater than 1 million more than twice for a single customer: {counter_income}\")\n",
    "print(f\"Number of times Monthly Income is greater than 1 million more than twice for a single customer: {counter_monthly_income}\")\n",
    "print(f\"Number of times Num Bank Accounts is greater than 10 more than twice for a single customer: {counter_num_bank_accounts}\")\n",
    "print(f\"Number of times Num Credit Card is greater than 11 more than twice for a single customer: {counter_num_credit_card}\")"
   ]
  },
  {
   "cell_type": "markdown",
   "metadata": {},
   "source": [
    "After this check, we can proceed with the deletion of the outliers. \n",
    "In addition, we also dropped any value that is negative, as these values are not possible for the columns we are dealing with."
   ]
  },
  {
   "cell_type": "code",
   "execution_count": 71,
   "metadata": {},
   "outputs": [],
   "source": [
    "# Exclude impossible values from the dataset\n",
    "\n",
    "# Replace all negative values in the specified columns with NaN\n",
    "for col in candidate_cols:\n",
    "    credit_card_df.loc[credit_card_df[col] < 0, col] = np.nan\n",
    "\n",
    "# Replace Number of Bank Accounts and Number of Credit Cards with Nan if they are greater than 20\n",
    "credit_card_df.loc[credit_card_df['Num_Bank_Accounts'] > 10, 'Num_Bank_Accounts'] = np.nan\n",
    "credit_card_df.loc[credit_card_df['Num_Credit_Card'] > 11, 'Num_Credit_Card'] = np.nan\n",
    "\n",
    "# Replace Interest Rate with NaN if it is greater than 100%\n",
    "credit_card_df.loc[credit_card_df['Interest_Rate'] > 100, 'Interest_Rate'] = np.nan\n",
    "\n",
    "# Replace Annual Income with NaN if it is greater than 1 million\n",
    "credit_card_df.loc[credit_card_df['Annual_Income'] > 1 * 10**6, 'Annual_Income'] = np.nan\n",
    "\n",
    "# Replace Monthly Inhand Salary with NaN if it is greater than 1 million\n",
    "credit_card_df.loc[credit_card_df['Monthly_Inhand_Salary'] > 1 * 10**5, 'Monthly_Inhand_Salary'] = np.nan"
   ]
  },
  {
   "cell_type": "markdown",
   "metadata": {},
   "source": [
    "After exluding impossible values, we can check again with the previous code if the columns are consistent across the customers."
   ]
  },
  {
   "cell_type": "code",
   "execution_count": 72,
   "metadata": {},
   "outputs": [
    {
     "name": "stdout",
     "output_type": "stream",
     "text": [
      "Column Annual_Income has a large difference in rows 240 to 247\n",
      "Column Annual_Income has a large difference in rows 1872 to 1879\n",
      "Column Annual_Income has a large difference in rows 13360 to 13367\n",
      "Column Annual_Income has a large difference in rows 24400 to 24407\n",
      "Column Annual_Income has a large difference in rows 25552 to 25559\n",
      "Column Annual_Income has a large difference in rows 37688 to 37695\n",
      "Column Annual_Income has a large difference in rows 38416 to 38423\n",
      "Column Annual_Income has a large difference in rows 42224 to 42231\n",
      "Column Annual_Income has a large difference in rows 46776 to 46783\n",
      "Column Annual_Income has a large difference in rows 50456 to 50463\n",
      "Column Annual_Income has a large difference in rows 50600 to 50607\n",
      "Column Annual_Income has a large difference in rows 54320 to 54327\n",
      "Column Annual_Income has a large difference in rows 55152 to 55159\n",
      "Column Annual_Income has a large difference in rows 60512 to 60519\n",
      "Column Annual_Income has a large difference in rows 63936 to 63943\n",
      "Column Annual_Income has a large difference in rows 64528 to 64535\n",
      "Column Annual_Income has a large difference in rows 70848 to 70855\n",
      "Column Annual_Income has a large difference in rows 72528 to 72535\n",
      "Column Annual_Income has a large difference in rows 79376 to 79383\n",
      "Column Annual_Income has a large difference in rows 85320 to 85327\n",
      "Column Annual_Income has a large difference in rows 85440 to 85447\n",
      "Column Annual_Income has a large difference in rows 93168 to 93175\n",
      "Column Annual_Income has a large difference in rows 98632 to 98639\n",
      "Column Annual_Income has 31 groups with differences, 23 groups with large differences in the high range and 0 groups with large differences in the low range.\n",
      "Column Monthly_Inhand_Salary has 616 groups with differences, 0 groups with large differences in the high range and 0 groups with large differences in the low range.\n",
      "Column Num_Bank_Accounts has 253 groups with differences, 0 groups with large differences in the high range and 0 groups with large differences in the low range.\n",
      "Column Num_Credit_Card has 260 groups with differences, 0 groups with large differences in the high range and 0 groups with large differences in the low range.\n",
      "Column Interest_Rate has a large difference in rows 4784 to 4791\n",
      "Column Interest_Rate has a large difference in rows 8032 to 8039\n",
      "Column Interest_Rate has a large difference in rows 22392 to 22399\n",
      "Column Interest_Rate has a large difference in rows 30152 to 30159\n",
      "Column Interest_Rate has a large difference in rows 37936 to 37943\n",
      "Column Interest_Rate has a large difference in rows 48456 to 48463\n",
      "Column Interest_Rate has 17 groups with differences, 6 groups with large differences in the high range and 0 groups with large differences in the low range.\n"
     ]
    }
   ],
   "source": [
    "# Check if the values are the same for each customer across all months (8 rows)\n",
    "for col in candidate_cols:\n",
    "    group_dif= 0\n",
    "    group_large_dif_high = 0\n",
    "    group_large_dif_small = 0\n",
    "    for i in range(0, len(credit_card_df), 8): # Iterate through the DataFrame in steps of 8\n",
    "        if credit_card_df[col][i:i+7].nunique() > 1: # Check for 8 rows\n",
    "            # Check the difference between the maximum and minimum values\n",
    "            # print(f\"Column {col} is not invariant across months in rows {i} to {i+7}\")\n",
    "            group_dif += 1\n",
    "            if credit_card_df[col][i:i+7].max() > credit_card_df[col][i:i+7].dropna().nsmallest(4).mean()*10 and credit_card_df[col][i:i+7].dropna().nsmallest(4).mean()!= 0:\n",
    "                print(f\"Column {col} has a large difference in rows {i} to {i+7}\")\n",
    "                group_large_dif_high += 1\n",
    "            elif credit_card_df[col][i:i+7].nsmallest(4).mean() > credit_card_df[col][i:i+7].max()*10:\n",
    "                print(f\"Column {col} has a large difference in rows {i} to {i+7}\")\n",
    "                group_large_dif += 1    \n",
    "    print(f\"Column {col} has {group_dif} groups with differences, {group_large_dif_high} groups with large differences in the high range and {group_large_dif_small} groups with large differences in the low range.\")"
   ]
  },
  {
   "cell_type": "markdown",
   "metadata": {},
   "source": [
    "As we can see, we still have some customers that present large differences in the values of the columns, all of them being values that are too high. Hence, we decided to remove them from the dataset."
   ]
  },
  {
   "cell_type": "code",
   "execution_count": 73,
   "metadata": {},
   "outputs": [],
   "source": [
    "for col in candidate_cols:\n",
    "    for i in range(0, len(credit_card_df), 8):  # Iterate through the DataFrame in steps of 8\n",
    "        window = credit_card_df[col][i:i+7]  # Slice the 7 rows\n",
    "        \n",
    "        if window.nunique() == 1:\n",
    "            continue\n",
    "        \n",
    "        first_4_avg = window.dropna().nsmallest(4).mean()\n",
    "        \n",
    "        if window.max() > first_4_avg * 10 and first_4_avg != 0:\n",
    "            unique_values_count = window.nunique()\n",
    "            # Find indices of the (unique_values_count - 1) largest values\n",
    "            indices_to_nan = window.nlargest(unique_values_count - 1).index\n",
    "            # Set those values to NaN in the original DataFrame\n",
    "            credit_card_df.loc[indices_to_nan, col] = np.nan"
   ]
  },
  {
   "cell_type": "markdown",
   "metadata": {},
   "source": [
    "Since we have few customers that have a varying value for the same column (the maximum is 616 in the case of `Monthly Inhand Salary`), we can impute the missing values using the mode value of the column for each customer."
   ]
  },
  {
   "cell_type": "code",
   "execution_count": 74,
   "metadata": {},
   "outputs": [
    {
     "name": "stdout",
     "output_type": "stream",
     "text": [
      "Missing values in candidate columns after filling: Annual_Income            0\n",
      "Monthly_Inhand_Salary    0\n",
      "Num_Bank_Accounts        0\n",
      "Num_Credit_Card          0\n",
      "Interest_Rate            0\n",
      "dtype: int64\n"
     ]
    }
   ],
   "source": [
    "for col in candidate_cols:\n",
    "    for i in range(0, len(credit_card_df), 8):  # Iterate through the DataFrame in steps of 8\n",
    "        mode_values = credit_card_df[col][i:i+7].mode()\n",
    "        if not mode_values.empty:\n",
    "            credit_card_df.loc[i:i+7, col] = mode_values.iloc[0]\n",
    "        else: # Use Annual Income divided by 12 as a fallback\n",
    "            credit_card_df.loc[i:i+7, col] = credit_card_df['Annual_Income'][i:i+7].mode().iloc[0] / 12\n",
    "\n",
    "\n",
    "# Check for any remaining missing values in the columns\n",
    "missing_values = credit_card_df[candidate_cols].isnull().sum()\n",
    "print(f\"Missing values in candidate columns after filling: {missing_values}\")"
   ]
  },
  {
   "cell_type": "markdown",
   "metadata": {},
   "source": [
    "We check if there is a customer that has (for more than 1 month) an annual income that is greater than 1 million."
   ]
  },
  {
   "cell_type": "markdown",
   "metadata": {},
   "source": [
    "### 2.7) Filling Missing Values in Type of Loan and Number of Loans\n",
    "The column `Type_of_Loan` contains categorical values that represent the type of loan a customer has. The column `Number_of_Loan` contains the number of loans a customer has. "
   ]
  },
  {
   "cell_type": "code",
   "execution_count": 75,
   "metadata": {},
   "outputs": [
    {
     "name": "stdout",
     "output_type": "stream",
     "text": [
      "Number of times Type of Loan is the same in 8 rows: 20520\n",
      "Number of times Type of Loan is missing in 8 rows: 1426\n",
      "Number of times Type of Loan is different in 8 rows: 0\n",
      "Number of times Number of Loans is the same in 8 rows: 20520\n",
      "Number of times Number of Loans is missing in 8 rows: 0\n",
      "Number of times Number of Loans is different in 8 rows: 3054 and 3007 have large differences\n"
     ]
    }
   ],
   "source": [
    "# Check if the values are the same for each customer across all months (8 rows)\n",
    "counter_n, counter = 0, 0\n",
    "missing_n, missing = 0, 0\n",
    "different_n, different = 0, 0\n",
    "large_dif = 0\n",
    "for i in range(0, len(credit_card_df), 8): # Iterate through the DataFrame in steps of 8\n",
    "    if credit_card_df['Type_of_Loan'][i:i+7].nunique() > 1:\n",
    "        # print(f\"Different Type of Loan found in rows {i} to {i+7}\")\n",
    "        different += 1\n",
    "    elif credit_card_df['Type_of_Loan'][i:i+7].isnull().all():\n",
    "        # print(f\"Type of Loan is all missing in rows {i} to {i+7}\")\n",
    "        # credit_card_df['Type_of_Loan'][i:i+7] = \"Not Specified\"\n",
    "        missing += 1\n",
    "    else:\n",
    "        counter += 1\n",
    "    if credit_card_df['Num_of_Loan'][i:i+7].nunique() > 1:\n",
    "        # print(f\"Different Number of Loans found in rows {i} to {i+7}\")\n",
    "        different_n += 1\n",
    "        if credit_card_df['Num_of_Loan'][i:i+7].max () > credit_card_df['Num_of_Loan'][i:i+7].dropna().nsmallest(4).mean()*10 and credit_card_df['Num_of_Loan'][i:i+7].dropna().nsmallest(4).mean()!= 0:\n",
    "            # print(f\"Column Num_of_Loan has a large difference in rows {i} to {i+7}\")\n",
    "            large_dif += 1\n",
    "    elif credit_card_df['Num_of_Loan'][i:i+7].isnull().all():\n",
    "        # print(f\"Number of Loans is all missing in rows {i} to {i+7}\")\n",
    "        # credit_card_df['Num_of_Loan'][i:i+7] = 0\n",
    "        missing_n += 1\n",
    "    else:\n",
    "        counter += 1\n",
    "\n",
    "print(f\"Number of times Type of Loan is the same in 8 rows: {counter}\")\n",
    "print(f\"Number of times Type of Loan is missing in 8 rows: {missing}\")\n",
    "print(f\"Number of times Type of Loan is different in 8 rows: {different}\")\n",
    "\n",
    "print(f\"Number of times Number of Loans is the same in 8 rows: {counter}\")\n",
    "print(f\"Number of times Number of Loans is missing in 8 rows: {missing_n}\")\n",
    "print(f\"Number of times Number of Loans is different in 8 rows: {different_n} and {large_dif} have large differences\")\n",
    "    "
   ]
  },
  {
   "cell_type": "markdown",
   "metadata": {},
   "source": [
    "As shown by the output of the previous cell, we can see that the column `Type_of_Loan` remains constant for each customer. However, there are some of them for which there is no record at all. They are probably customers that do not have any loan, and for which the column `Num_of_Loan` should be set to 0.\n",
    "Another aspect that has to be considered is that the results are not consistent: how can a customer have the same list of loans but a different number of loans over the months? Since the latter is not possible, we decided to consider the column `Num_of_Loan` as the one that is more likely to have incorecct values.\n",
    "We first verify the relation. \n",
    "\n",
    "Hence, we can impute the missing values using the mode value of the column for each customer, if it is available, or we can just set the value to \"Not Specified\" if the customer has no loan at all. We will see later that this is not going to be an issue, since this column and the column `Num_of_Loan` are going to be combined in other columns."
   ]
  },
  {
   "cell_type": "code",
   "execution_count": 76,
   "metadata": {},
   "outputs": [
    {
     "name": "stdout",
     "output_type": "stream",
     "text": [
      "Number of times Type of Loan is wrong: 0\n"
     ]
    }
   ],
   "source": [
    "wrong_loan = 0\n",
    "for i in range(len(credit_card_df)):\n",
    "    num_loans = credit_card_df['Num_of_Loan'][i]\n",
    "    loan_type = credit_card_df['Type_of_Loan'][i]\n",
    "    \n",
    "    if num_loans == 0 and (loan_type != \"Not Specified\" and not pd.isna(loan_type)):\n",
    "        # print(f\"Wrong Type of Loan found in row {i}\")\n",
    "        wrong_loan += 1\n",
    "\n",
    "print(f\"Number of times Type of Loan is wrong: {wrong_loan}\")    "
   ]
  },
  {
   "cell_type": "markdown",
   "metadata": {},
   "source": [
    "To prepare the loan-related data for classification, we can begin by imputing missing values in the `Type_of_Loan` column. Since each customer typically has a consistent loan type when specified, we can fill in missing values using the mode (most frequent value) of that column for each individual customer. Next, for rows where the number of loans (`Num_of_Loan`) is missing but the loan type is known, we can estimate the number of loans by counting the occurrences of each loan type per customer. "
   ]
  },
  {
   "cell_type": "code",
   "execution_count": 77,
   "metadata": {},
   "outputs": [
    {
     "name": "stdout",
     "output_type": "stream",
     "text": [
      "Missing Type of Loan values after filling: 0\n"
     ]
    }
   ],
   "source": [
    "# When the Type of Loan is missing, we can use the most frequent value in the group of 8 rows\n",
    "for i in range(0, len(credit_card_df), 8):  # Iterate through the DataFrame in steps of 8\n",
    "    mode_values = credit_card_df['Type_of_Loan'][i:i+7].mode()\n",
    "    # print(f\"Mode values for Type of Loan in rows {i} to {i+7}: {mode_values}\")\n",
    "    if not mode_values.empty:\n",
    "        credit_card_df.loc[i:i+7, 'Type_of_Loan'] = mode_values.iloc[0]\n",
    "    else: # Use not specified as a fallback\n",
    "        credit_card_df.loc[i:i+7, 'Type_of_Loan'] = \"Not Specified\"\n",
    "\n",
    "# Check for any remaining missing values in the Type of Loan column\n",
    "missing_type_of_loan = credit_card_df['Type_of_Loan'].isnull().sum()\n",
    "print(f\"Missing Type of Loan values after filling: {missing_type_of_loan}\")"
   ]
  },
  {
   "cell_type": "markdown",
   "metadata": {},
   "source": [
    "Finally, to make the `Type_of_Loan` column suitable for classification models, we can expand it into multiple binary or count-based columns—one for each loan type. Each of these new columns will represent how many loans a customer has for that specific type, with a value of zero if they have none. This approach only makes the data more model-friendly, without the need for one-hot-encoding it later on."
   ]
  },
  {
   "cell_type": "code",
   "execution_count": 78,
   "metadata": {},
   "outputs": [],
   "source": [
    "# Store the possible values in the 'Type_of_Loan' column\n",
    "loan_values = credit_card_df['Type_of_Loan'].dropna().str.split(', ').explode().unique()\n",
    "unique_loan_values = set()\n",
    "for value in loan_values:\n",
    "    value = value.replace('and ', '')\n",
    "    unique_loan_values.add(value)\n",
    "\n",
    "# Create new columns for each unique loan type\n",
    "for loan_type in unique_loan_values:\n",
    "    credit_card_df[loan_type] = credit_card_df['Type_of_Loan'].fillna('').str.count(loan_type)\n",
    "\n",
    "loan_columns = list(unique_loan_values)\n",
    "# For rows where Num_of_Loan == 0, set all loan columns to 0\n",
    "credit_card_df.loc[credit_card_df['Num_of_Loan'] == 0, loan_columns] = 0\n",
    "\n",
    "# Drop the original 'Type_of_Loan' column\n",
    "credit_card_df.drop(columns=['Type_of_Loan'], inplace=True)"
   ]
  },
  {
   "cell_type": "markdown",
   "metadata": {},
   "source": [
    "We can now correct the value in the `Num_of_Loan` column."
   ]
  },
  {
   "cell_type": "code",
   "execution_count": 79,
   "metadata": {},
   "outputs": [
    {
     "name": "stdout",
     "output_type": "stream",
     "text": [
      "Missing values in loan columns after filling:\n",
      "Not Specified              0\n",
      "Debt Consolidation Loan    0\n",
      "Auto Loan                  0\n",
      "Home Equity Loan           0\n",
      "Personal Loan              0\n",
      "Mortgage Loan              0\n",
      "Credit-Builder Loan        0\n",
      "Student Loan               0\n",
      "Payday Loan                0\n",
      "dtype: int64\n",
      "Missing Num_of_Loan values after filling: 0\n"
     ]
    }
   ],
   "source": [
    "# Correct the values in the 'Num_of_Loan' column based on the new loan columns\n",
    "\n",
    "for i in range(len(credit_card_df)):\n",
    "    # Get the sum of the new loan columns for the current row\n",
    "    total_loans = credit_card_df.loc[i, loan_columns].sum()\n",
    "    \n",
    "    # Update the 'Num_of_Loan' column with the total number of loans\n",
    "    credit_card_df.at[i, 'Num_of_Loan'] = total_loans\n",
    "\n",
    "# Check for any remaining missing values in the loan columns\n",
    "missing_loan_columns = credit_card_df[loan_columns].isnull().sum()\n",
    "print(f\"Missing values in loan columns after filling:\\n{missing_loan_columns}\")\n",
    "# Check for any remaining missing values in the Num_of_Loan column\n",
    "missing_num_of_loan = credit_card_df['Num_of_Loan'].isnull().sum()\n",
    "print(f\"Missing Num_of_Loan values after filling: {missing_num_of_loan}\")\n",
    "\n",
    "# Put the columns \"Num of Loan\" and \"Credit Score\" at the end of the DataFrame\n",
    "credit_card_df = credit_card_df[[col for col in credit_card_df.columns if col not in ['Num_of_Loan', 'Credit_Score']] + ['Num_of_Loan', 'Credit_Score']]"
   ]
  },
  {
   "cell_type": "markdown",
   "metadata": {},
   "source": [
    "### 2.8) Filling Missing Values in Outstanding Debt\n",
    "The column `Outstanding_Debt` contains numerical values that represent the amount of debt a customer has."
   ]
  },
  {
   "cell_type": "code",
   "execution_count": 80,
   "metadata": {},
   "outputs": [
    {
     "name": "stdout",
     "output_type": "stream",
     "text": [
      "Number of times Outstanding Debt is the same in 8 rows: 12500\n"
     ]
    }
   ],
   "source": [
    "# Check if the values are the same for each customer across all months (8 rows)\n",
    "counter = 0\n",
    "for i in range(0, len(credit_card_df), 8): # Iterate through the DataFrame in steps of 8\n",
    "    if credit_card_df['Outstanding_Debt'][i:i+7].nunique() > 1:\n",
    "        print(f\"Different Outstanding Debt found in rows {i} to {i+7}\")\n",
    "    elif credit_card_df['Outstanding_Debt'][i:i+7].isnull().all():\n",
    "        print(f\"Outstanding Debt is all missing in rows {i} to {i+7}\")\n",
    "    else:\n",
    "        counter += 1\n",
    "\n",
    "print(f\"Number of times Outstanding Debt is the same in 8 rows: {counter}\")"
   ]
  },
  {
   "cell_type": "markdown",
   "metadata": {},
   "source": [
    "Since the column `Outstanding_Debt` is constant for each customer, we can impute the missing values using the mode value of the column for each customer."
   ]
  },
  {
   "cell_type": "code",
   "execution_count": 81,
   "metadata": {},
   "outputs": [
    {
     "name": "stdout",
     "output_type": "stream",
     "text": [
      "Missing values in Outstanding Debt after filling: 0\n"
     ]
    }
   ],
   "source": [
    "# We can use the most frequent value in the group of 8 rows\n",
    "for i in range(0, len(credit_card_df), 8):  # Iterate through the DataFrame in steps of 8\n",
    "    mode_values = credit_card_df['Outstanding_Debt'][i:i+7].mode()\n",
    "    # print(f\"Mode values for Outstanding Debt in rows {i} to {i+7}: {mode_values}\")\n",
    "    if not mode_values.empty:\n",
    "        credit_card_df.loc[i:i+7, 'Outstanding_Debt'] = mode_values.iloc[0]\n",
    "\n",
    "# Check for any remaining missing values in the columns\n",
    "missing_values = credit_card_df['Outstanding_Debt'].isnull().sum()\n",
    "print(f\"Missing values in Outstanding Debt after filling: {missing_values}\")"
   ]
  },
  {
   "cell_type": "markdown",
   "metadata": {},
   "source": [
    "### 2.9) Filling Missing Values in Credit History\n",
    "The column `Credit_History_Age` contains categorical values that represent the credit history of a customer. However, these categories are just years and months, which can be converted into a single numerical value (months) in order to make the data more suitable for classification models."
   ]
  },
  {
   "cell_type": "code",
   "execution_count": 82,
   "metadata": {},
   "outputs": [],
   "source": [
    "# Transofrm the categorical value (x Years and x Months) into a single value in months\n",
    "def convert_to_months(x):\n",
    "    \"\"\"\n",
    "    Convert a string in the format 'x Years and y Months' to total months.\n",
    "    \"\"\"\n",
    "    if pd.isnull(x):\n",
    "        return np.nan\n",
    "    match = re.match(r'(\\d+)\\s*Years?\\s*and\\s*(\\d+)\\s*Months?', x)\n",
    "    if match:\n",
    "        years, months = map(int, match.groups())\n",
    "        return years * 12 + months\n",
    "    else:\n",
    "        return np.nan\n",
    "\n",
    "# Apply the function to the 'Credit_History_Age' column\n",
    "credit_card_df['Credit_History_Age'] = credit_card_df['Credit_History_Age'].apply(convert_to_months)"
   ]
  },
  {
   "cell_type": "markdown",
   "metadata": {},
   "source": [
    "We now check, as we did for the age column, if the values are consistent across the months. This means that we have to check if the values are sorted in ascending order and if there are not two different values for the same customer that differ by more than 8 months."
   ]
  },
  {
   "cell_type": "code",
   "execution_count": 83,
   "metadata": {},
   "outputs": [
    {
     "name": "stdout",
     "output_type": "stream",
     "text": [
      "Number of times Credit History Age is sequential in 8 rows: 12500\n"
     ]
    }
   ],
   "source": [
    "# Check if the values are sorted every 8 rows (exluding nans)\n",
    "counter = 0\n",
    "for i in range(0, len(credit_card_df), 8): # Iterate through the DataFrame in steps of 8\n",
    "    if credit_card_df['Credit_History_Age'][i:i+7].dropna().tolist() != sorted(credit_card_df['Credit_History_Age'][i:i+7].dropna().tolist()):\n",
    "            print(f\"Values not in the correct order between {i} and {i+7}\")\n",
    "    # Check if the values are all missing\n",
    "    if credit_card_df['Credit_History_Age'][i:i+7].isnull().all():\n",
    "        print(f\"Credit History Age is all missing in rows {i} to {i+7}\")\n",
    "    # Check if the values min and max differ by more than 8 months\n",
    "    elif credit_card_df['Credit_History_Age'][i:i+7].max() - credit_card_df['Credit_History_Age'][i:i+7].min() > 7:\n",
    "        print(f\"Credit History Age has a large difference in rows {i} to {i+7}\")\n",
    "    else:\n",
    "        counter += 1\n",
    "\n",
    "print(f\"Number of times Credit History Age is sequential in 8 rows: {counter}\")"
   ]
  },
  {
   "cell_type": "markdown",
   "metadata": {},
   "source": [
    "Since we confirmed that each customer has one complete and continuous credit history timeline spread over a group of 8 records, it is possible to fill in the missing values in the `Credit_History_Age` column. \n",
    "To do this, we first track which customer IDs we have already processed to avoid duplication. For each unique customer with a known credit history age, we calculate the full range of months that their credit history should cover across the 8 entries. We then fill in the missing values for that customer by assigning a sequence of months that aligns with their credit timeline. This ensures that all entries for a customer reflect a consistent and complete history, helping us preserve useful temporal patterns in the data."
   ]
  },
  {
   "cell_type": "code",
   "execution_count": 84,
   "metadata": {},
   "outputs": [
    {
     "name": "stdout",
     "output_type": "stream",
     "text": [
      "Missing values in Credit History Age after filling: 0\n"
     ]
    }
   ],
   "source": [
    "seen_customer_ids = set()\n",
    "for i in range(0, len(credit_card_df)):  # Iterate through the DataFrame in steps of 8\n",
    "    customer_id = credit_card_df['Customer_ID'][i]\n",
    "    credit_history_age = credit_card_df['Credit_History_Age'][i]\n",
    "    if pd.isnull(credit_history_age):\n",
    "        # If the credit history age is null, we skip this row\n",
    "        continue\n",
    "    elif customer_id in seen_customer_ids:\n",
    "        # If the customer ID is already seen or is null we skip this row\n",
    "        continue\n",
    "    else:\n",
    "        # If the customer ID is not seen, we add it to the set\n",
    "        seen_customer_ids.add(customer_id)\n",
    "        # Compute the range of value in the group of 8 rows\n",
    "        start = i // 8 * 8\n",
    "        end = start + 7\n",
    "        start_month = credit_history_age - (i - start)\n",
    "        end_month = credit_history_age + (end - i)\n",
    "        credit_card_df.loc[start:end, 'Credit_History_Age'] = np.arange(start_month, end_month + 1)\n",
    "\n",
    "# Check for any remaining missing values in the columns\n",
    "missing_values = credit_card_df['Credit_History_Age'].isnull().sum()\n",
    "print(f\"Missing values in Credit History Age after filling: {missing_values}\")"
   ]
  },
  {
   "cell_type": "markdown",
   "metadata": {},
   "source": [
    "### 2.10) Filling Missing Values in `Amount_Invested_Monthly` and `Credit_Utilization_Ratio`\n",
    "\n",
    "The column `Amount_Invested_monthly` contains numerical values that represent the amount of money a customer invests each month. `Credit_Utilization_Ratio` contains numerical values that represent the ratio of credit used by a customer.\n",
    "It is possible that this value changes from month to month. "
   ]
  },
  {
   "cell_type": "code",
   "execution_count": 85,
   "metadata": {},
   "outputs": [
    {
     "name": "stdout",
     "output_type": "stream",
     "text": [
      "Number of times Amount Invested Monthly has 6 or more different values in 8 rows: 9116\n",
      "Number of times Amount Invested Monthly is all missing in 8 rows: 0\n",
      "Number of times Credit Utilization Ratio has 6 or more different values in 8 rows: 10638\n",
      "Number of times Credit Utilization Ratio is all missing in 8 rows: 0\n"
     ]
    }
   ],
   "source": [
    "# Check how many values are different every 8 rows\n",
    "counter_inv = 0\n",
    "counter_credit = 0\n",
    "counter_inv_missing = 0\n",
    "counter_credit_missing = 0\n",
    "for i in range(0, len(credit_card_df), 8): # Iterate through the DataFrame in steps of 8\n",
    "    if credit_card_df['Amount_invested_monthly'][i:i+7].nunique() > 5:\n",
    "        # print(f\"Different Amount Invested Monthly found in rows {i} to {i+7}\")\n",
    "        counter_inv += 1\n",
    "    if credit_card_df['Amount_invested_monthly'][i:i+7].isnull().all():\n",
    "        # print(f\"Amount Invested Monthly is all missing in rows {i} to {i+7}\")\n",
    "        # credit_card_df['Amount_invested_monthly'][i:i+7] = 0\n",
    "        counter_inv_missing += 1\n",
    "    if credit_card_df['Credit_Utilization_Ratio'][i:i+7].nunique() > 5:\n",
    "        # print(f\"Different Credit Utilization Ratio found in rows {i} to {i+7}\")\n",
    "        counter_credit += 1\n",
    "    if credit_card_df['Credit_Utilization_Ratio'][i:i+7].isnull().all():\n",
    "        # print(f\"Credit Utilization Ratio is all missing in rows {i} to {i+7}\")\n",
    "        # credit_card_df['Credit_Utilization_Ratio'][i:i+7] = 0\n",
    "        counter_credit_missing += 1\n",
    "\n",
    "print(f\"Number of times Amount Invested Monthly has 6 or more different values in 8 rows: {counter_inv}\")\n",
    "print(f\"Number of times Amount Invested Monthly is all missing in 8 rows: {counter_inv_missing}\")\n",
    "print(f\"Number of times Credit Utilization Ratio has 6 or more different values in 8 rows: {counter_credit}\")\n",
    "print(f\"Number of times Credit Utilization Ratio is all missing in 8 rows: {counter_credit_missing}\")"
   ]
  },
  {
   "cell_type": "markdown",
   "metadata": {},
   "source": [
    "Since we confirmed that there are different values (6 or more) for most of the customers, we are sure that it is impossible to have a result that is surely correct. \n",
    "As a consequence, we decided to impute the missing values using the mean value of the column for each customer, after excluding the outliers. In this case, we considered as outliers the values that are greater than 9000 (as shown on the distribution we plotted before) and the negative values."
   ]
  },
  {
   "cell_type": "code",
   "execution_count": 86,
   "metadata": {},
   "outputs": [
    {
     "name": "stdout",
     "output_type": "stream",
     "text": [
      "Number of times Amount Invested Monthly has a large difference in 8 rows: 977\n",
      "Number of times Credit Utilization Ratio has a large difference in 8 rows: 0\n",
      "Number of times Amount Invested Monthly has a large difference in 8 rows after processing: 0\n"
     ]
    }
   ],
   "source": [
    "# We iterate through the DataFrame in steps of 8\n",
    "counter_credit = 0\n",
    "counter_inv = 0\n",
    "for i in range(0, len(credit_card_df), 8):\n",
    "    # If the maxmum value is more than 100 times greater than the minimum value, we set that value to NaN\n",
    "    if credit_card_df['Amount_invested_monthly'][i:i+7].max() > credit_card_df['Amount_invested_monthly'][i:i+7].dropna().nsmallest(6).mean()*20 and credit_card_df['Amount_invested_monthly'][i:i+7].dropna().nsmallest(6).mean()!= 0:\n",
    "        # print(f\"Amount invested monthly has a large difference in rows {i} to {i+7}\") \n",
    "        counter_inv += 1\n",
    "    if credit_card_df['Credit_Utilization_Ratio'][i:i+7].max() > credit_card_df['Credit_Utilization_Ratio'][i:i+7].dropna().nsmallest(6).mean()*5 and credit_card_df['Credit_Utilization_Ratio'][i:i+7].dropna().nsmallest(6).mean()!= 0:\n",
    "        # print(f\"Credit Utilization Ratio has a large difference in rows {i} to {i+7}\") \n",
    "        counter_credit += 1\n",
    "\n",
    "print(f\"Number of times Amount Invested Monthly has a large difference in 8 rows: {counter_inv}\")\n",
    "print(f\"Number of times Credit Utilization Ratio has a large difference in 8 rows: {counter_credit}\")\n",
    "\n",
    "# Remove values that are too high\n",
    "credit_card_df.loc[credit_card_df['Amount_invested_monthly'] > 9000, 'Amount_invested_monthly'] = np.nan\n",
    "\n",
    "# Do again the check for the values in the group of 8 rows\n",
    "counter = 0\n",
    "for i in range(0, len(credit_card_df), 8): # Iterate through the DataFrame in steps of 8\n",
    "    if credit_card_df['Amount_invested_monthly'][i:i+7].max() > credit_card_df['Amount_invested_monthly'][i:i+7].dropna().nsmallest(6).mean()*20 and credit_card_df['Amount_invested_monthly'][i:i+7].dropna().nsmallest(6).mean()!= 0:\n",
    "        # print(f\"Credit History Age has a large difference in rows {i} to {i+7}\") \n",
    "        counter += 1\n",
    "\n",
    "print(f\"Number of times Amount Invested Monthly has a large difference in 8 rows after processing: {counter}\")"
   ]
  },
  {
   "cell_type": "markdown",
   "metadata": {},
   "source": [
    "Now, it is possible to fill the missing values in the columns 'Amount_invested_monthly' and 'Credit_Utilization_Ratio' using the mean of the group of 8 rows."
   ]
  },
  {
   "cell_type": "code",
   "execution_count": 87,
   "metadata": {},
   "outputs": [
    {
     "name": "stdout",
     "output_type": "stream",
     "text": [
      "Missing values in Amount Invested Monthly after filling: 0\n",
      "Missing values in Credit Utilization Ratio after filling: 0\n"
     ]
    }
   ],
   "source": [
    "# Filling missing values in Amount Invested Monthly using the mean of the customer group\n",
    "\n",
    "for i in range(0, len(credit_card_df), 8):  # Iterate through the DataFrame in steps of 8\n",
    "    # Calculate the mean for 'Amount_invested_monthly' and fill missing values\n",
    "    mean_invested = credit_card_df['Amount_invested_monthly'][i:i+8].mean()\n",
    "    credit_card_df.loc[i:i+8, 'Amount_invested_monthly'] = credit_card_df['Amount_invested_monthly'][i:i+8].fillna(mean_invested)\n",
    "\n",
    "    # Calculate the mean for 'Credit_Utilization_Ratio' and fill missing values\n",
    "    mean_utilization = credit_card_df['Credit_Utilization_Ratio'][i:i+8].mean()\n",
    "    credit_card_df.loc[i:i+8, 'Credit_Utilization_Ratio'] = credit_card_df['Credit_Utilization_Ratio'][i:i+8].fillna(mean_utilization)\n",
    "\n",
    "# Check for any remaining missing values in the columns\n",
    "missing_values = credit_card_df['Amount_invested_monthly'].isnull().sum()\n",
    "print(f\"Missing values in Amount Invested Monthly after filling: {missing_values}\")\n",
    "missing_values = credit_card_df['Credit_Utilization_Ratio'].isnull().sum()\n",
    "print(f\"Missing values in Credit Utilization Ratio after filling: {missing_values}\")"
   ]
  },
  {
   "cell_type": "markdown",
   "metadata": {},
   "source": [
    "### 2.11) Filling Missing Values in `Payment_of_Min_Amount`\n"
   ]
  },
  {
   "cell_type": "markdown",
   "metadata": {},
   "source": [
    "The column `Payment_of_Min_Amount` contains categorical values that represent the payment status of a customer. It presents three possible values:\n",
    "- Yes: the customer paid the minimum amount\n",
    "- No: the customer did not pay the minimum amount\n",
    "- NM: stands for \"Not Mentioned\".\n",
    "\n",
    "First of all, we verify that there is no customer that has both \"Yes\" and \"No\" in the dataset."
   ]
  },
  {
   "cell_type": "code",
   "execution_count": 88,
   "metadata": {},
   "outputs": [
    {
     "name": "stdout",
     "output_type": "stream",
     "text": [
      "Number of times Payment of Minimum Amount is the same in 8 rows: 12500\n"
     ]
    }
   ],
   "source": [
    "# Check the number of unique values for every customer in the group of 8 rows\n",
    "\n",
    "counter = 0\n",
    "for i in range(0, len(credit_card_df), 8): # Iterate through the DataFrame in steps of 8\n",
    "    if credit_card_df['Payment_of_Min_Amount'][i:i+7].nunique() > 2:\n",
    "        print(f\"All the categories are present in rows {i} to {i+7}\")\n",
    "    elif credit_card_df['Payment_of_Min_Amount'][i:i+7].isnull().all():\n",
    "        print(f\"Payment of Minimum Amount is all missing in rows {i} to {i+7}\")\n",
    "    elif credit_card_df['Payment_of_Min_Amount'][i:i+7].nunique() > 1 and \"Yes\" in credit_card_df['Payment_of_Min_Amount'][i:i+7].values and \"No\" in credit_card_df['Payment_of_Min_Amount'][i:i+7].values:\n",
    "        # print(f\"Different Payment of Minimum Amount found in rows {i} to {i+7}\")\n",
    "        counter += 1\n",
    "    else:\n",
    "        counter += 1\n",
    "\n",
    "print(f\"Number of times Payment of Minimum Amount is the same in 8 rows: {counter}\")"
   ]
  },
  {
   "cell_type": "markdown",
   "metadata": {},
   "source": [
    "Since there is no customer that has both \"Yes\" and \"No\" in the dataset, we can impute the missing values using the mode value by just setting them to \"NM\"."
   ]
  },
  {
   "cell_type": "code",
   "execution_count": 89,
   "metadata": {},
   "outputs": [],
   "source": [
    "# Convert all Nan values to \"NM\"\n",
    "\n",
    "credit_card_df['Payment_of_Min_Amount'] = credit_card_df['Payment_of_Min_Amount'].fillna(\"NM\")"
   ]
  },
  {
   "cell_type": "markdown",
   "metadata": {},
   "source": [
    "### 2.12) Filling Missing Values in `Delay_from_due_date` and `Num_of_Delayed_Payment` and `Changed_Credit_Limit`\n",
    "The columns `Delay_from_due_date`, `Num_of_Delayed_Payment`, and `Changed_Credit_Limit` contain numerical values that represent the delay from the due date, the number of delayed payments, and the change in credit limit for a customer."
   ]
  },
  {
   "cell_type": "code",
   "execution_count": 90,
   "metadata": {},
   "outputs": [
    {
     "name": "stdout",
     "output_type": "stream",
     "text": [
      "Number of times Delay from Due Date has 4 or more different values in 8 rows: 2360\n",
      "Number of times Delay from Due Date is all missing in 8 rows: 0\n",
      "Number of times Number of Delayed Payment has 4 or more different values in 8 rows: 2810\n",
      "Number of times Number of Delayed Payment is all missing in 8 rows: 0\n",
      "Number of times Changed Credit Limit has 4 or more different values in 8 rows: 951\n",
      "Number of times Changed Credit Limit is all missing in 8 rows: 0\n"
     ]
    }
   ],
   "source": [
    "# Check if there are more than 3 different values in the group of 8 rows\n",
    "counter_dif_delay = 0\n",
    "counter_dif_num = 0\n",
    "counter_missing_delay = 0\n",
    "counter_missing_num = 0\n",
    "counter_dif_change = 0\n",
    "counter_missing_change = 0\n",
    "for i in range(0, len(credit_card_df), 8): # Iterate through the DataFrame in steps of 8\n",
    "    if credit_card_df['Delay_from_due_date'][i:i+7].nunique() > 3:\n",
    "        counter_dif_delay += 1\n",
    "    elif credit_card_df['Delay_from_due_date'][i:i+7].isnull().all():\n",
    "        counter_missing_delay += 1\n",
    "    if credit_card_df['Num_of_Delayed_Payment'][i:i+7].nunique() > 3:\n",
    "        counter_dif_num += 1\n",
    "    elif credit_card_df['Num_of_Delayed_Payment'][i:i+7].isnull().all():\n",
    "        counter_missing_num += 1\n",
    "    if credit_card_df['Changed_Credit_Limit'][i:i+7].nunique() > 3:\n",
    "        counter_dif_change += 1\n",
    "    elif credit_card_df['Changed_Credit_Limit'][i:i+7].isnull().all():\n",
    "        counter_missing_change += 1\n",
    "\n",
    "print(f\"Number of times Delay from Due Date has 4 or more different values in 8 rows: {counter_dif_delay}\")\n",
    "print(f\"Number of times Delay from Due Date is all missing in 8 rows: {counter_missing_delay}\")\n",
    "print(f\"Number of times Number of Delayed Payment has 4 or more different values in 8 rows: {counter_dif_num}\")\n",
    "print(f\"Number of times Number of Delayed Payment is all missing in 8 rows: {counter_missing_num}\")\n",
    "print(f\"Number of times Changed Credit Limit has 4 or more different values in 8 rows: {counter_dif_change}\")\n",
    "print(f\"Number of times Changed Credit Limit is all missing in 8 rows: {counter_missing_change}\")\n"
   ]
  },
  {
   "cell_type": "markdown",
   "metadata": {},
   "source": [
    "In this case, since there are many customers that present more than 3 different values, we decided to impute the missing values using the mode value of the column for each customer after excluding the outliers."
   ]
  },
  {
   "cell_type": "code",
   "execution_count": 91,
   "metadata": {},
   "outputs": [
    {
     "name": "stdout",
     "output_type": "stream",
     "text": [
      "Missing values in Delay from Due Date after filling: 0\n",
      "Missing values in Number of Delayed Payment after filling: 0\n",
      "Missing values in Changed Credit Limit after filling: 0\n"
     ]
    }
   ],
   "source": [
    "# Exclude impossible values from the dataset\n",
    "credit_card_df.loc[credit_card_df['Delay_from_due_date'] < 0, 'Delay_from_due_date'] = np.nan\n",
    "credit_card_df.loc[credit_card_df['Num_of_Delayed_Payment'] < 0, 'Num_of_Delayed_Payment'] = np.nan\n",
    "\n",
    "credit_card_df.loc[credit_card_df['Delay_from_due_date'] > 1000, 'Delay_from_due_date'] = np.nan\n",
    "credit_card_df.loc[credit_card_df['Num_of_Delayed_Payment'] > 50, 'Num_of_Delayed_Payment'] = np.nan\n",
    "\n",
    "\n",
    "\n",
    "# Filling missing values in Delay from Due Date and Number of Delayed Payment using the mode of the customer group\n",
    "for i in range(0, len(credit_card_df), 8):  # Iterate through the DataFrame in steps of 8\n",
    "    mode_value_delay = credit_card_df['Delay_from_due_date'][i:i+7].mode()\n",
    "    mode_value_num = credit_card_df['Num_of_Delayed_Payment'][i:i+7].mode()\n",
    "    mode_value_change = credit_card_df['Changed_Credit_Limit'][i:i+7].mode()\n",
    "    if not mode_value_delay.empty:\n",
    "        credit_card_df.loc[i:i+7, 'Delay_from_due_date'] = credit_card_df['Delay_from_due_date'].fillna(mode_value_delay.iloc[0])\n",
    "    if not mode_value_num.empty:\n",
    "        credit_card_df.loc[i:i+7, 'Num_of_Delayed_Payment'] = credit_card_df['Num_of_Delayed_Payment'].fillna(mode_value_num.iloc[0])\n",
    "    if not mode_value_change.empty:\n",
    "        credit_card_df.loc[i:i+7, 'Changed_Credit_Limit'] = credit_card_df['Changed_Credit_Limit'].fillna(mode_value_change.iloc[0])\n",
    "\n",
    "# Check for any remaining missing values in the columns\n",
    "missing_values = credit_card_df[['Delay_from_due_date', 'Num_of_Delayed_Payment', 'Changed_Credit_Limit']].isnull().sum()\n",
    "print(f\"Missing values in Delay from Due Date after filling: {missing_values['Delay_from_due_date']}\")\n",
    "print(f\"Missing values in Number of Delayed Payment after filling: {missing_values['Num_of_Delayed_Payment']}\")\n",
    "print(f\"Missing values in Changed Credit Limit after filling: {missing_values['Changed_Credit_Limit']}\")"
   ]
  },
  {
   "cell_type": "markdown",
   "metadata": {},
   "source": [
    "### 2.13) Filling Missing Values in `Credit_Mix` and `Num_Credit_Inquiries`"
   ]
  },
  {
   "cell_type": "markdown",
   "metadata": {},
   "source": [
    "The columns `Credit_Mix` and `Num_Credit_Inquiries` contain categorical values that represent the classification of the credit mix and the number of credit inquiries for a customer. As always, we check how and if the values are consistent across the months."
   ]
  },
  {
   "cell_type": "code",
   "execution_count": 92,
   "metadata": {},
   "outputs": [
    {
     "name": "stdout",
     "output_type": "stream",
     "text": [
      "Number of times Credit Mix is the same in 8 rows: 12499\n",
      "Number of times Number of Inquiries is the same in 8 rows: 5927\n",
      "Number of times Credit Mix is missing in 8 rows: 1\n",
      "Number of times Number of Inquiries is missing in 8 rows: 0\n",
      "Number of times Credit Mix is different in 8 rows: 0\n",
      "Number of times Number of Inquiries is different in 8 rows: 6573\n"
     ]
    }
   ],
   "source": [
    "# Check if the values are the same for each customer across all months (8 rows)\n",
    "counter_mix = 0\n",
    "counter_mix_missing = 0\n",
    "counter_mix_dif = 0\n",
    "counter_inq = 0\n",
    "counter_inq_missing = 0\n",
    "counter_inq_dif = 0\n",
    "\n",
    "# Put all the values \"-\" to NaN\n",
    "credit_card_df['Credit_Mix'] = credit_card_df['Credit_Mix'].replace(\"_\", np.nan)\n",
    "\n",
    "for i in range(0, len(credit_card_df), 8): # Iterate through the DataFrame in steps of 8\n",
    "    if credit_card_df['Credit_Mix'][i:i+7].nunique() > 1:\n",
    "        # print(f\"Different Credit Mix found in rows {i} to {i+7}\")\n",
    "        counter_mix_dif += 1\n",
    "    elif credit_card_df['Credit_Mix'][i:i+7].isnull().all():\n",
    "        # print(f\"Credit Mix is all missing in rows {i} to {i+7}\")\n",
    "        counter_mix_missing += 1\n",
    "    else:\n",
    "        counter_mix += 1\n",
    "    if credit_card_df['Num_Credit_Inquiries'][i:i+7].nunique() > 1:\n",
    "        # print(f\"Different Number of Inquiries found in rows {i} to {i+7}\")\n",
    "        counter_inq_dif += 1\n",
    "    elif credit_card_df['Num_Credit_Inquiries'][i:i+7].isnull().all():\n",
    "        # print(f\"Number of Inquiries is all missing in rows {i} to {i+7}\")\n",
    "        counter_inq_missing += 1\n",
    "    else:\n",
    "        counter_inq += 1\n",
    "\n",
    "print(f\"Number of times Credit Mix is the same in 8 rows: {counter_mix}\")\n",
    "print(f\"Number of times Number of Inquiries is the same in 8 rows: {counter_inq}\")\n",
    "print(f\"Number of times Credit Mix is missing in 8 rows: {counter_mix_missing}\")\n",
    "print(f\"Number of times Number of Inquiries is missing in 8 rows: {counter_inq_missing}\")\n",
    "print(f\"Number of times Credit Mix is different in 8 rows: {counter_mix_dif}\")\n",
    "print(f\"Number of times Number of Inquiries is different in 8 rows: {counter_inq_dif}\")"
   ]
  },
  {
   "cell_type": "markdown",
   "metadata": {},
   "source": [
    "In this case, the column `Credit_Mix` is constant for each customer (missing in one case), while the column `Num_Credit_Inquiries` presents different values for the same customer. To impute them, we still decided to use the mode value of the column for each customer, as we did for the other columns."
   ]
  },
  {
   "cell_type": "code",
   "execution_count": 93,
   "metadata": {},
   "outputs": [],
   "source": [
    "# Drop impossible values from the dataset\n",
    "credit_card_df.loc[credit_card_df['Num_Credit_Inquiries'] < 0, 'Num_Credit_Inquiries'] = np.nan\n",
    "credit_card_df.loc[credit_card_df['Num_Credit_Inquiries'] > 20, 'Num_Credit_Inquiries'] = np.nan\n",
    "\n",
    "# Impute the values in the Credit Mix column using the mode of the customer group\n",
    "for i in range(0, len(credit_card_df), 8):  # Iterate through the DataFrame in steps of 8\n",
    "    mode_values = credit_card_df['Credit_Mix'][i:i+7].mode()\n",
    "    mode_values_inq = credit_card_df['Num_Credit_Inquiries'][i:i+7].mode()\n",
    "    if not mode_values_inq.empty:\n",
    "        credit_card_df.loc[i:i+7, 'Num_Credit_Inquiries'] = credit_card_df['Num_Credit_Inquiries'].fillna(mode_values_inq.iloc[0])\n",
    "    else: # Use 0 as a fallback\n",
    "        credit_card_df.loc[i:i+7, 'Num_Credit_Inquiries'] = credit_card_df['Num_Credit_Inquiries'].fillna(0)\n",
    "    if not mode_values.empty:\n",
    "        credit_card_df.loc[i:i+7, 'Credit_Mix'] = mode_values.iloc[0]\n",
    "    else: # Use \"Good\" as a fallback\n",
    "        credit_card_df.loc[i:i+7, 'Credit_Mix'] = \"Standard\""
   ]
  },
  {
   "cell_type": "code",
   "execution_count": 94,
   "metadata": {},
   "outputs": [],
   "source": [
    "# Save the resulting DataFrame to a new CSV file\n",
    "credit_card_df.to_csv('Dataset/cleaned_credit_card_data.csv', index=False)"
   ]
  }
 ],
 "metadata": {
  "kernelspec": {
   "display_name": "Python 3",
   "language": "python",
   "name": "python3"
  },
  "language_info": {
   "codemirror_mode": {
    "name": "ipython",
    "version": 3
   },
   "file_extension": ".py",
   "mimetype": "text/x-python",
   "name": "python",
   "nbconvert_exporter": "python",
   "pygments_lexer": "ipython3",
   "version": "3.13.2"
  }
 },
 "nbformat": 4,
 "nbformat_minor": 2
}
